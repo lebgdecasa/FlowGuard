{
 "cells": [
  {
   "cell_type": "markdown",
   "id": "31bd3b5d",
   "metadata": {},
   "source": [
    "loading data to a dataframe"
   ]
  },
  {
   "cell_type": "code",
   "execution_count": 1,
   "id": "ba4cf3fa",
   "metadata": {},
   "outputs": [],
   "source": [
    "import pandas as pd\n",
    "import numpy as np"
   ]
  },
  {
   "cell_type": "code",
   "execution_count": 2,
   "id": "f9ccf551",
   "metadata": {},
   "outputs": [],
   "source": [
    "file_path = \"/Users/ayda/code/aydaafsh/FlowGuard/FlowGuard/raw_data/merged_data.csv\""
   ]
  },
  {
   "cell_type": "code",
   "execution_count": 3,
   "id": "4258707e",
   "metadata": {},
   "outputs": [],
   "source": [
    "df = pd.read_csv(file_path, sep='|', low_memory=False)"
   ]
  },
  {
   "cell_type": "code",
   "execution_count": 4,
   "id": "f75519f7",
   "metadata": {},
   "outputs": [
    {
     "name": "stderr",
     "output_type": "stream",
     "text": [
      "/var/folders/3g/0y4j1k350114xw7tj_jc05qc0000gn/T/ipykernel_6420/629937412.py:12: FutureWarning: A value is trying to be set on a copy of a DataFrame or Series through chained assignment using an inplace method.\n",
      "The behavior will change in pandas 3.0. This inplace method will never work because the intermediate object on which we are setting values always behaves as a copy.\n",
      "\n",
      "For example, when doing 'df[col].method(value, inplace=True)', try using 'df.method({col: value}, inplace=True)' or df[col] = df[col].method(value) instead, to perform the operation inplace on the original object.\n",
      "\n",
      "\n",
      "  df_cleaned[col].fillna(0, inplace=True)\n"
     ]
    }
   ],
   "source": [
    "df_cleaned = df.drop_duplicates()\n",
    "df_cleaned.reset_index(drop=True, inplace=True)\n",
    "\n",
    "drop_cols = ['uid', 'history', 'tunnel_parents', 'detailed-label', 'local_resp', 'local_orig', 'missed_bytes']\n",
    "df_cleaned.drop(columns=drop_cols, inplace=True, errors='ignore')\n",
    "\n",
    "df_cleaned.dropna(subset=['label', 'proto', 'service', 'duration', 'orig_bytes', 'resp_bytes'], inplace=True)\n",
    "\n",
    "for col in ['duration', 'orig_bytes', 'resp_bytes']:\n",
    "    df_cleaned[col] = df_cleaned[col].replace('-', np.nan)  # Replace '-' with NaN\n",
    "    df_cleaned[col] = pd.to_numeric(df_cleaned[col], errors='coerce')  # Convert to numeric\n",
    "    df_cleaned[col].fillna(0, inplace=True)"
   ]
  },
  {
   "cell_type": "code",
   "execution_count": 5,
   "id": "ec579af2",
   "metadata": {},
   "outputs": [],
   "source": [
    "df_cleaned = df_cleaned.drop_duplicates()\n",
    "df_cleaned.reset_index(drop=True, inplace=True)"
   ]
  },
  {
   "cell_type": "code",
   "execution_count": 6,
   "id": "2ff2f3ee",
   "metadata": {},
   "outputs": [
    {
     "name": "stdout",
     "output_type": "stream",
     "text": [
      "ts: 0.00% zeros\n",
      "id.orig_h: 0.00% zeros\n",
      "id.orig_p: 0.00% zeros\n",
      "id.resp_h: 0.00% zeros\n",
      "id.resp_p: 0.03% zeros\n",
      "proto: 0.00% zeros\n",
      "service: 0.00% zeros\n",
      "duration: 61.06% zeros\n",
      "orig_bytes: 99.52% zeros\n",
      "resp_bytes: 99.86% zeros\n",
      "conn_state: 0.00% zeros\n",
      "orig_pkts: 14.37% zeros\n",
      "orig_ip_bytes: 14.37% zeros\n",
      "resp_pkts: 99.78% zeros\n",
      "resp_ip_bytes: 99.78% zeros\n",
      "label: 0.00% zeros\n"
     ]
    }
   ],
   "source": [
    "columns = list(df_cleaned.columns)\n",
    "zero_ratios = {col: (df_cleaned[col] == 0).mean() for col in columns}\n",
    "\n",
    "for col, ratio in zero_ratios.items():\n",
    "    print(f\"{col}: {ratio:.2%} zeros\")"
   ]
  },
  {
   "cell_type": "code",
   "execution_count": 7,
   "id": "31e54f54",
   "metadata": {},
   "outputs": [],
   "source": [
    "import seaborn as sns\n",
    "import matplotlib.pyplot as plt"
   ]
  },
  {
   "cell_type": "code",
   "execution_count": 8,
   "id": "df84d8d8",
   "metadata": {},
   "outputs": [
    {
     "data": {
      "text/plain": [
       "<Axes: >"
      ]
     },
     "execution_count": 8,
     "metadata": {},
     "output_type": "execute_result"
    },
    {
     "data": {
      "image/png": "[encoded data removed]",
      "text/plain": [
       "<Figure size 640x480 with 2 Axes>"
      ]
     },
     "metadata": {},
     "output_type": "display_data"
    }
   ],
   "source": [
    "sns.heatmap(df.corr(numeric_only=True))"
   ]
  },
  {
   "cell_type": "markdown",
   "id": "5cff62ac",
   "metadata": {},
   "source": [
    "___________START JAD + KAWTAR______________________"
   ]
  },
  {
   "cell_type": "code",
   "execution_count": 9,
   "id": "8aa74203",
   "metadata": {},
   "outputs": [],
   "source": [
    "df_clean = df_cleaned"
   ]
  },
  {
   "cell_type": "markdown",
   "id": "0bc8e0c3",
   "metadata": {},
   "source": [
    "______________"
   ]
  },
  {
   "cell_type": "code",
   "execution_count": 10,
   "id": "aa013936",
   "metadata": {},
   "outputs": [
    {
     "name": "stdout",
     "output_type": "stream",
     "text": [
      "proto: 3 unique values\n",
      "conn_state: 13 unique values\n"
     ]
    }
   ],
   "source": [
    "# Check number of unique values for each categorical feature in df_clean\n",
    "categorical_features = ['proto', 'conn_state']\n",
    "for col in categorical_features:\n",
    "    unique_count = df_clean[col].nunique()\n",
    "    print(f\"{col}: {unique_count} unique values\")"
   ]
  },
  {
   "cell_type": "code",
   "execution_count": 11,
   "id": "6179ff9c",
   "metadata": {},
   "outputs": [
    {
     "name": "stdout",
     "output_type": "stream",
     "text": [
      "\n",
      "Value percentages for 'proto':\n",
      "proto\n",
      "tcp     98.13\n",
      "udp      1.77\n",
      "icmp     0.10\n",
      "\n",
      "Value percentages for 'conn_state':\n",
      "conn_state\n",
      "S0        76.57\n",
      "OTH       14.73\n",
      "RSTOS0     8.48\n",
      "SF         0.13\n",
      "REJ        0.06\n",
      "S3         0.01\n",
      "RSTR       0.01\n",
      "RSTO       0.00\n",
      "S2         0.00\n",
      "S1         0.00\n",
      "SH         0.00\n",
      "RSTRH      0.00\n",
      "SHR        0.00\n"
     ]
    }
   ],
   "source": [
    "# Calculate and display the percentage of each unique value for each categorical feature in df_clean\n",
    "categorical_features = ['proto', 'conn_state']\n",
    "for col in categorical_features:\n",
    "    print(f\"\\nValue percentages for '{col}':\")\n",
    "    value_counts = df_clean[col].value_counts(normalize=True) * 100\n",
    "    print(value_counts.round(2).to_string())"
   ]
  },
  {
   "cell_type": "code",
   "execution_count": 12,
   "id": "44b79e43",
   "metadata": {
    "vscode": {
     "languageId": "ruby"
    }
   },
   "outputs": [],
   "source": [
    "# # Filter df_clean to keep only desired conn_state and history values\n",
    "# df_clean = df_clean[df_clean['conn_state'].isin(['S0', 'RSTOS0'])]\n",
    "# df_clean = df_clean[df_clean['history'].isin(['S', 'I'])]\n",
    "\n",
    "# # Reset index after filtering\n",
    "# df_clean = df_clean.reset_index(drop=True)\n",
    "\n",
    "# df_clean['conn_state'].value_counts(), df_clean['history'].value_counts()"
   ]
  },
  {
   "cell_type": "code",
   "execution_count": 13,
   "id": "3236ef27",
   "metadata": {
    "vscode": {
     "languageId": "ruby"
    }
   },
   "outputs": [],
   "source": [
    "df_clean['label'] = df_clean['label'].apply(lambda x: 0 if x == 'Benign' else 1)"
   ]
  },
  {
   "cell_type": "code",
   "execution_count": 14,
   "id": "2c664c01",
   "metadata": {},
   "outputs": [],
   "source": [
    "df_clean.drop(['id.orig_p', 'id.resp_p'], axis=1, inplace=True)"
   ]
  },
  {
   "cell_type": "code",
   "execution_count": 15,
   "id": "a3bc2ac2",
   "metadata": {},
   "outputs": [],
   "source": [
    "X = df_clean.drop('label', axis=1)\n",
    "y = df_clean['label']"
   ]
  },
  {
   "cell_type": "code",
   "execution_count": 16,
   "id": "e6314280",
   "metadata": {},
   "outputs": [],
   "source": [
    "from sklearn.model_selection import train_test_split"
   ]
  },
  {
   "cell_type": "markdown",
   "id": "fa49e985",
   "metadata": {},
   "source": []
  },
  {
   "cell_type": "code",
   "execution_count": 17,
   "id": "5dfe7074",
   "metadata": {},
   "outputs": [
    {
     "name": "stdout",
     "output_type": "stream",
     "text": [
      "Splitting data into train and test sets...\n",
      "\n",
      "Train set: (17507702, 13)\n",
      "Test set: (7503301, 13)\n",
      "\n",
      "Train set class distribution:\n",
      "label\n",
      "1    11361591\n",
      "0     6146111\n",
      "Name: count, dtype: int64\n",
      "Train malicious ratio: 64.89%\n",
      "\n",
      "Test set class distribution:\n",
      "label\n",
      "1    4869254\n",
      "0    2634047\n",
      "Name: count, dtype: int64\n",
      "Test malicious ratio: 64.89%\n"
     ]
    }
   ],
   "source": [
    "\n",
    "# Split the data (70-30 split, stratified to maintain class distribution)\n",
    "print(\"Splitting data into train and test sets...\")\n",
    "X_train, X_test, y_train, y_test = train_test_split(\n",
    "    X, y,\n",
    "    test_size=0.3,\n",
    "    stratify=y,  # Stratify to maintain class distribution\n",
    "    random_state=42,\n",
    ")\n",
    "\n",
    "print(f\"\\nTrain set: {X_train.shape}\")\n",
    "print(f\"Test set: {X_test.shape}\")\n",
    "\n",
    "# Verify stratification worked\n",
    "print(\"\\nTrain set class distribution:\")\n",
    "print(y_train.value_counts())\n",
    "print(f\"Train malicious ratio: {(y_train.sum() / len(y_train) * 100):.2f}%\")\n",
    "\n",
    "print(\"\\nTest set class distribution:\")\n",
    "print(y_test.value_counts())\n",
    "print(f\"Test malicious ratio: {(y_test.sum() / len(y_test) * 100):.2f}%\")"
   ]
  },
  {
   "cell_type": "code",
   "execution_count": 18,
   "id": "bace829e",
   "metadata": {},
   "outputs": [
    {
     "name": "stderr",
     "output_type": "stream",
     "text": [
      "/Users/ayda/.pyenv/versions/3.10.6/envs/FlowGuard/lib/python3.10/site-packages/sklearn/preprocessing/_encoders.py:975: FutureWarning: `sparse` was renamed to `sparse_output` in version 1.2 and will be removed in 1.4. `sparse_output` is ignored unless you leave `sparse` to its default value.\n",
      "  warnings.warn(\n"
     ]
    }
   ],
   "source": [
    "from sklearn.preprocessing import OneHotEncoder\n",
    "\n",
    "# Select categorical columns to encode\n",
    "categorical_cols = ['proto', 'conn_state']\n",
    "\n",
    "# Fit OneHotEncoder on the categorical columns using X_train\n",
    "encoder = OneHotEncoder(sparse=False, handle_unknown='ignore')\n",
    "\n",
    "# Fit and transform on X_train\n",
    "encoded_train = encoder.fit_transform(X_train[categorical_cols])\n",
    "\n",
    "# Only transform X_test\n",
    "encoded_test = encoder.transform(X_test[categorical_cols])\n",
    "\n",
    "# Get new column names\n",
    "encoded_feature_names = encoder.get_feature_names_out(categorical_cols)\n",
    "\n",
    "# Create DataFrames for encoded features\n",
    "encoded_train_df = pd.DataFrame(encoded_train, columns=encoded_feature_names, index=X_train.index)\n",
    "encoded_test_df = pd.DataFrame(encoded_test, columns=encoded_feature_names, index=X_test.index)"
   ]
  },
  {
   "cell_type": "code",
   "execution_count": 19,
   "id": "32974d75",
   "metadata": {},
   "outputs": [
    {
     "data": {
      "text/html": [
       "<div>\n",
       "<style scoped>\n",
       "    .dataframe tbody tr th:only-of-type {\n",
       "        vertical-align: middle;\n",
       "    }\n",
       "\n",
       "    .dataframe tbody tr th {\n",
       "        vertical-align: top;\n",
       "    }\n",
       "\n",
       "    .dataframe thead th {\n",
       "        text-align: right;\n",
       "    }\n",
       "</style>\n",
       "<table border=\"1\" class=\"dataframe\">\n",
       "  <thead>\n",
       "    <tr style=\"text-align: right;\">\n",
       "      <th></th>\n",
       "      <th>proto_icmp</th>\n",
       "      <th>proto_tcp</th>\n",
       "      <th>proto_udp</th>\n",
       "      <th>conn_state_OTH</th>\n",
       "      <th>conn_state_REJ</th>\n",
       "      <th>conn_state_RSTO</th>\n",
       "      <th>conn_state_RSTOS0</th>\n",
       "      <th>conn_state_RSTR</th>\n",
       "      <th>conn_state_RSTRH</th>\n",
       "      <th>conn_state_S0</th>\n",
       "      <th>conn_state_S1</th>\n",
       "      <th>conn_state_S2</th>\n",
       "      <th>conn_state_S3</th>\n",
       "      <th>conn_state_SF</th>\n",
       "      <th>conn_state_SH</th>\n",
       "      <th>conn_state_SHR</th>\n",
       "    </tr>\n",
       "  </thead>\n",
       "  <tbody>\n",
       "    <tr>\n",
       "      <th>23215231</th>\n",
       "      <td>0.0</td>\n",
       "      <td>1.0</td>\n",
       "      <td>0.0</td>\n",
       "      <td>0.0</td>\n",
       "      <td>0.0</td>\n",
       "      <td>0.0</td>\n",
       "      <td>0.0</td>\n",
       "      <td>0.0</td>\n",
       "      <td>0.0</td>\n",
       "      <td>1.0</td>\n",
       "      <td>0.0</td>\n",
       "      <td>0.0</td>\n",
       "      <td>0.0</td>\n",
       "      <td>0.0</td>\n",
       "      <td>0.0</td>\n",
       "      <td>0.0</td>\n",
       "    </tr>\n",
       "    <tr>\n",
       "      <th>738818</th>\n",
       "      <td>0.0</td>\n",
       "      <td>1.0</td>\n",
       "      <td>0.0</td>\n",
       "      <td>0.0</td>\n",
       "      <td>0.0</td>\n",
       "      <td>0.0</td>\n",
       "      <td>0.0</td>\n",
       "      <td>0.0</td>\n",
       "      <td>0.0</td>\n",
       "      <td>1.0</td>\n",
       "      <td>0.0</td>\n",
       "      <td>0.0</td>\n",
       "      <td>0.0</td>\n",
       "      <td>0.0</td>\n",
       "      <td>0.0</td>\n",
       "      <td>0.0</td>\n",
       "    </tr>\n",
       "    <tr>\n",
       "      <th>1304284</th>\n",
       "      <td>0.0</td>\n",
       "      <td>1.0</td>\n",
       "      <td>0.0</td>\n",
       "      <td>0.0</td>\n",
       "      <td>0.0</td>\n",
       "      <td>0.0</td>\n",
       "      <td>0.0</td>\n",
       "      <td>0.0</td>\n",
       "      <td>0.0</td>\n",
       "      <td>1.0</td>\n",
       "      <td>0.0</td>\n",
       "      <td>0.0</td>\n",
       "      <td>0.0</td>\n",
       "      <td>0.0</td>\n",
       "      <td>0.0</td>\n",
       "      <td>0.0</td>\n",
       "    </tr>\n",
       "    <tr>\n",
       "      <th>13520024</th>\n",
       "      <td>0.0</td>\n",
       "      <td>1.0</td>\n",
       "      <td>0.0</td>\n",
       "      <td>0.0</td>\n",
       "      <td>0.0</td>\n",
       "      <td>0.0</td>\n",
       "      <td>0.0</td>\n",
       "      <td>0.0</td>\n",
       "      <td>0.0</td>\n",
       "      <td>1.0</td>\n",
       "      <td>0.0</td>\n",
       "      <td>0.0</td>\n",
       "      <td>0.0</td>\n",
       "      <td>0.0</td>\n",
       "      <td>0.0</td>\n",
       "      <td>0.0</td>\n",
       "    </tr>\n",
       "    <tr>\n",
       "      <th>8024960</th>\n",
       "      <td>0.0</td>\n",
       "      <td>1.0</td>\n",
       "      <td>0.0</td>\n",
       "      <td>0.0</td>\n",
       "      <td>0.0</td>\n",
       "      <td>0.0</td>\n",
       "      <td>1.0</td>\n",
       "      <td>0.0</td>\n",
       "      <td>0.0</td>\n",
       "      <td>0.0</td>\n",
       "      <td>0.0</td>\n",
       "      <td>0.0</td>\n",
       "      <td>0.0</td>\n",
       "      <td>0.0</td>\n",
       "      <td>0.0</td>\n",
       "      <td>0.0</td>\n",
       "    </tr>\n",
       "  </tbody>\n",
       "</table>\n",
       "</div>"
      ],
      "text/plain": [
       "          proto_icmp  proto_tcp  proto_udp  conn_state_OTH  conn_state_REJ  \\\n",
       "23215231         0.0        1.0        0.0             0.0             0.0   \n",
       "738818           0.0        1.0        0.0             0.0             0.0   \n",
       "1304284          0.0        1.0        0.0             0.0             0.0   \n",
       "13520024         0.0        1.0        0.0             0.0             0.0   \n",
       "8024960          0.0        1.0        0.0             0.0             0.0   \n",
       "\n",
       "          conn_state_RSTO  conn_state_RSTOS0  conn_state_RSTR  \\\n",
       "23215231              0.0                0.0              0.0   \n",
       "738818                0.0                0.0              0.0   \n",
       "1304284               0.0                0.0              0.0   \n",
       "13520024              0.0                0.0              0.0   \n",
       "8024960               0.0                1.0              0.0   \n",
       "\n",
       "          conn_state_RSTRH  conn_state_S0  conn_state_S1  conn_state_S2  \\\n",
       "23215231               0.0            1.0            0.0            0.0   \n",
       "738818                 0.0            1.0            0.0            0.0   \n",
       "1304284                0.0            1.0            0.0            0.0   \n",
       "13520024               0.0            1.0            0.0            0.0   \n",
       "8024960                0.0            0.0            0.0            0.0   \n",
       "\n",
       "          conn_state_S3  conn_state_SF  conn_state_SH  conn_state_SHR  \n",
       "23215231            0.0            0.0            0.0             0.0  \n",
       "738818              0.0            0.0            0.0             0.0  \n",
       "1304284             0.0            0.0            0.0             0.0  \n",
       "13520024            0.0            0.0            0.0             0.0  \n",
       "8024960             0.0            0.0            0.0             0.0  "
      ]
     },
     "execution_count": 19,
     "metadata": {},
     "output_type": "execute_result"
    }
   ],
   "source": [
    "encoded_train_df.head()"
   ]
  },
  {
   "cell_type": "code",
   "execution_count": 20,
   "id": "08c3107a",
   "metadata": {},
   "outputs": [
    {
     "data": {
      "text/html": [
       "<div>\n",
       "<style scoped>\n",
       "    .dataframe tbody tr th:only-of-type {\n",
       "        vertical-align: middle;\n",
       "    }\n",
       "\n",
       "    .dataframe tbody tr th {\n",
       "        vertical-align: top;\n",
       "    }\n",
       "\n",
       "    .dataframe thead th {\n",
       "        text-align: right;\n",
       "    }\n",
       "</style>\n",
       "<table border=\"1\" class=\"dataframe\">\n",
       "  <thead>\n",
       "    <tr style=\"text-align: right;\">\n",
       "      <th></th>\n",
       "      <th>ts</th>\n",
       "      <th>id.orig_h</th>\n",
       "      <th>id.resp_h</th>\n",
       "      <th>proto</th>\n",
       "      <th>service</th>\n",
       "      <th>duration</th>\n",
       "      <th>orig_bytes</th>\n",
       "      <th>resp_bytes</th>\n",
       "      <th>conn_state</th>\n",
       "      <th>orig_pkts</th>\n",
       "      <th>orig_ip_bytes</th>\n",
       "      <th>resp_pkts</th>\n",
       "      <th>resp_ip_bytes</th>\n",
       "      <th>label</th>\n",
       "    </tr>\n",
       "  </thead>\n",
       "  <tbody>\n",
       "    <tr>\n",
       "      <th>0</th>\n",
       "      <td>1.545403e+09</td>\n",
       "      <td>192.168.1.196</td>\n",
       "      <td>104.248.160.24</td>\n",
       "      <td>tcp</td>\n",
       "      <td>-</td>\n",
       "      <td>3.097754</td>\n",
       "      <td>0.0</td>\n",
       "      <td>0.0</td>\n",
       "      <td>S0</td>\n",
       "      <td>3.0</td>\n",
       "      <td>180.0</td>\n",
       "      <td>0.0</td>\n",
       "      <td>0.0</td>\n",
       "      <td>1</td>\n",
       "    </tr>\n",
       "    <tr>\n",
       "      <th>1</th>\n",
       "      <td>1.545403e+09</td>\n",
       "      <td>192.168.1.196</td>\n",
       "      <td>104.248.160.24</td>\n",
       "      <td>tcp</td>\n",
       "      <td>-</td>\n",
       "      <td>0.000000</td>\n",
       "      <td>0.0</td>\n",
       "      <td>0.0</td>\n",
       "      <td>S0</td>\n",
       "      <td>1.0</td>\n",
       "      <td>60.0</td>\n",
       "      <td>0.0</td>\n",
       "      <td>0.0</td>\n",
       "      <td>1</td>\n",
       "    </tr>\n",
       "  </tbody>\n",
       "</table>\n",
       "</div>"
      ],
      "text/plain": [
       "             ts      id.orig_h       id.resp_h proto service  duration  \\\n",
       "0  1.545403e+09  192.168.1.196  104.248.160.24   tcp       -  3.097754   \n",
       "1  1.545403e+09  192.168.1.196  104.248.160.24   tcp       -  0.000000   \n",
       "\n",
       "   orig_bytes  resp_bytes conn_state  orig_pkts  orig_ip_bytes  resp_pkts  \\\n",
       "0         0.0         0.0         S0        3.0          180.0        0.0   \n",
       "1         0.0         0.0         S0        1.0           60.0        0.0   \n",
       "\n",
       "   resp_ip_bytes  label  \n",
       "0            0.0      1  \n",
       "1            0.0      1  "
      ]
     },
     "execution_count": 20,
     "metadata": {},
     "output_type": "execute_result"
    }
   ],
   "source": [
    "df_clean.head(2)"
   ]
  },
  {
   "cell_type": "code",
   "execution_count": 21,
   "id": "807287d0",
   "metadata": {},
   "outputs": [
    {
     "name": "stdout",
     "output_type": "stream",
     "text": [
      "Checking for outliers in key features:\n",
      "ts: 0 outliers (0.00%)\n",
      "duration: 57,436 outliers (0.33%)\n",
      "orig_bytes: 83,857 outliers (0.48%)\n",
      "resp_bytes: 24,962 outliers (0.14%)\n",
      "orig_pkts: 126,181 outliers (0.72%)\n",
      "orig_ip_bytes: 65,137 outliers (0.37%)\n",
      "resp_pkts: 37,926 outliers (0.22%)\n",
      "resp_ip_bytes: 37,926 outliers (0.22%)\n",
      "\n",
      "Scaling features with RobustScaler...\n",
      "\n",
      "Scaling complete!\n",
      "Scaled train shape: (17507702, 8)\n",
      "Scaled test shape: (7503301, 8)\n"
     ]
    }
   ],
   "source": [
    "from sklearn.preprocessing import RobustScaler, StandardScaler\n",
    "# Let's first check for outliers in a few features\n",
    "print(\"Checking for outliers in key features:\")\n",
    "# Select only numerical features for scaling\n",
    "features_to_check = X_train.select_dtypes(include=[np.number]).columns.tolist()\n",
    "for feat in features_to_check:\n",
    "    if feat in X_train.columns:\n",
    "        col_idx = X_train.columns.get_loc(feat)\n",
    "        q1 = np.percentile(X_train.iloc[:, col_idx], 25)\n",
    "        q3 = np.percentile(X_train.iloc[:, col_idx], 75)\n",
    "        iqr = q3 - q1\n",
    "        lower_bound = q1 - 1.5 * iqr\n",
    "        upper_bound = q3 + 1.5 * iqr\n",
    "        outliers = ((X_train.iloc[:, col_idx] < lower_bound) | (X_train.iloc[:, col_idx] > upper_bound)).sum()\n",
    "        print(f\"{feat}: {outliers:,} outliers ({outliers/len(X_train)*100:.2f}%)\")\n",
    "\n",
    "# Use RobustScaler instead\n",
    "print(\"\\nScaling features with RobustScaler...\")\n",
    "# scaler = RobustScaler()\n",
    "scaler = StandardScaler()\n",
    "# Fit on training data and transform\n",
    "X_train_scaled_num = scaler.fit_transform(X_train[features_to_check])\n",
    "\n",
    "# Transform test data\n",
    "X_test_scaled_num = scaler.transform(X_test[features_to_check])\n",
    "\n",
    "print(\"\\nScaling complete!\")\n",
    "print(f\"Scaled train shape: {X_train_scaled_num.shape}\")\n",
    "print(f\"Scaled test shape: {X_test_scaled_num.shape}\")"
   ]
  },
  {
   "cell_type": "code",
   "execution_count": 22,
   "id": "4d87c555",
   "metadata": {},
   "outputs": [],
   "source": [
    "df_X_train_scaled_num = pd.DataFrame(X_train_scaled_num, columns=features_to_check, index=X_train.index)\n",
    "df_X_test_scaled_num = pd.DataFrame(X_test_scaled_num, columns=features_to_check, index=X_test.index)"
   ]
  },
  {
   "cell_type": "code",
   "execution_count": 23,
   "id": "2fca5f68",
   "metadata": {},
   "outputs": [
    {
     "data": {
      "text/plain": [
       "(17507702, 8)"
      ]
     },
     "execution_count": 23,
     "metadata": {},
     "output_type": "execute_result"
    }
   ],
   "source": [
    "df_X_train_scaled_num.shape"
   ]
  },
  {
   "cell_type": "code",
   "execution_count": 24,
   "id": "7fc7de3e",
   "metadata": {},
   "outputs": [
    {
     "data": {
      "text/plain": [
       "(17507702, 16)"
      ]
     },
     "execution_count": 24,
     "metadata": {},
     "output_type": "execute_result"
    }
   ],
   "source": [
    "encoded_train_df.shape"
   ]
  },
  {
   "cell_type": "code",
   "execution_count": 25,
   "id": "1c811c14",
   "metadata": {},
   "outputs": [
    {
     "name": "stdout",
     "output_type": "stream",
     "text": [
      "X_train_scaled shape: (17507702, 24)\n",
      "X_test_scaled shape: (7503301, 24)\n"
     ]
    }
   ],
   "source": [
    "# Concatenate scaled numerical features and encoded categorical features for train and test sets\n",
    "\n",
    "X_train_scaled = pd.concat([df_X_train_scaled_num, encoded_train_df], axis=1)\n",
    "X_test_scaled = pd.concat([df_X_test_scaled_num, encoded_test_df], axis=1)\n",
    "\n",
    "# Check the shapes to confirm concatenation\n",
    "print(f\"X_train_scaled shape: {X_train_scaled.shape}\")\n",
    "print(f\"X_test_scaled shape: {X_test_scaled.shape}\")"
   ]
  },
  {
   "cell_type": "code",
   "execution_count": 29,
   "id": "43a86b4e",
   "metadata": {},
   "outputs": [
    {
     "data": {
      "text/html": [
       "<div>\n",
       "<style scoped>\n",
       "    .dataframe tbody tr th:only-of-type {\n",
       "        vertical-align: middle;\n",
       "    }\n",
       "\n",
       "    .dataframe tbody tr th {\n",
       "        vertical-align: top;\n",
       "    }\n",
       "\n",
       "    .dataframe thead th {\n",
       "        text-align: right;\n",
       "    }\n",
       "</style>\n",
       "<table border=\"1\" class=\"dataframe\">\n",
       "  <thead>\n",
       "    <tr style=\"text-align: right;\">\n",
       "      <th></th>\n",
       "      <th>ts</th>\n",
       "      <th>duration</th>\n",
       "      <th>orig_bytes</th>\n",
       "      <th>resp_bytes</th>\n",
       "      <th>orig_pkts</th>\n",
       "      <th>orig_ip_bytes</th>\n",
       "      <th>resp_pkts</th>\n",
       "      <th>resp_ip_bytes</th>\n",
       "      <th>proto_icmp</th>\n",
       "      <th>proto_tcp</th>\n",
       "      <th>...</th>\n",
       "      <th>conn_state_RSTOS0</th>\n",
       "      <th>conn_state_RSTR</th>\n",
       "      <th>conn_state_RSTRH</th>\n",
       "      <th>conn_state_S0</th>\n",
       "      <th>conn_state_S1</th>\n",
       "      <th>conn_state_S2</th>\n",
       "      <th>conn_state_S3</th>\n",
       "      <th>conn_state_SF</th>\n",
       "      <th>conn_state_SH</th>\n",
       "      <th>conn_state_SHR</th>\n",
       "    </tr>\n",
       "  </thead>\n",
       "  <tbody>\n",
       "    <tr>\n",
       "      <th>23215231</th>\n",
       "      <td>0.496055</td>\n",
       "      <td>-0.030971</td>\n",
       "      <td>-0.050217</td>\n",
       "      <td>-0.000253</td>\n",
       "      <td>-0.000801</td>\n",
       "      <td>-0.000732</td>\n",
       "      <td>-0.003488</td>\n",
       "      <td>-0.004637</td>\n",
       "      <td>0.0</td>\n",
       "      <td>1.0</td>\n",
       "      <td>...</td>\n",
       "      <td>0.0</td>\n",
       "      <td>0.0</td>\n",
       "      <td>0.0</td>\n",
       "      <td>1.0</td>\n",
       "      <td>0.0</td>\n",
       "      <td>0.0</td>\n",
       "      <td>0.0</td>\n",
       "      <td>0.0</td>\n",
       "      <td>0.0</td>\n",
       "      <td>0.0</td>\n",
       "    </tr>\n",
       "    <tr>\n",
       "      <th>738818</th>\n",
       "      <td>-0.002388</td>\n",
       "      <td>-0.030971</td>\n",
       "      <td>-0.050217</td>\n",
       "      <td>-0.000253</td>\n",
       "      <td>-0.000876</td>\n",
       "      <td>-0.000821</td>\n",
       "      <td>-0.003488</td>\n",
       "      <td>-0.004637</td>\n",
       "      <td>0.0</td>\n",
       "      <td>1.0</td>\n",
       "      <td>...</td>\n",
       "      <td>0.0</td>\n",
       "      <td>0.0</td>\n",
       "      <td>0.0</td>\n",
       "      <td>1.0</td>\n",
       "      <td>0.0</td>\n",
       "      <td>0.0</td>\n",
       "      <td>0.0</td>\n",
       "      <td>0.0</td>\n",
       "      <td>0.0</td>\n",
       "      <td>0.0</td>\n",
       "    </tr>\n",
       "  </tbody>\n",
       "</table>\n",
       "<p>2 rows × 24 columns</p>\n",
       "</div>"
      ],
      "text/plain": [
       "                ts  duration  orig_bytes  resp_bytes  orig_pkts  \\\n",
       "23215231  0.496055 -0.030971   -0.050217   -0.000253  -0.000801   \n",
       "738818   -0.002388 -0.030971   -0.050217   -0.000253  -0.000876   \n",
       "\n",
       "          orig_ip_bytes  resp_pkts  resp_ip_bytes  proto_icmp  proto_tcp  ...  \\\n",
       "23215231      -0.000732  -0.003488      -0.004637         0.0        1.0  ...   \n",
       "738818        -0.000821  -0.003488      -0.004637         0.0        1.0  ...   \n",
       "\n",
       "          conn_state_RSTOS0  conn_state_RSTR  conn_state_RSTRH  conn_state_S0  \\\n",
       "23215231                0.0              0.0               0.0            1.0   \n",
       "738818                  0.0              0.0               0.0            1.0   \n",
       "\n",
       "          conn_state_S1  conn_state_S2  conn_state_S3  conn_state_SF  \\\n",
       "23215231            0.0            0.0            0.0            0.0   \n",
       "738818              0.0            0.0            0.0            0.0   \n",
       "\n",
       "          conn_state_SH  conn_state_SHR  \n",
       "23215231            0.0             0.0  \n",
       "738818              0.0             0.0  \n",
       "\n",
       "[2 rows x 24 columns]"
      ]
     },
     "execution_count": 29,
     "metadata": {},
     "output_type": "execute_result"
    }
   ],
   "source": [
    "X_train_scaled.head(2)"
   ]
  },
  {
   "cell_type": "code",
   "execution_count": 32,
   "id": "7687e5ed",
   "metadata": {},
   "outputs": [
    {
     "name": "stdout",
     "output_type": "stream",
     "text": [
      "\n",
      "--- Running Grid Search for Logistic Regression ---\n",
      "Fitting 3 folds for each of 8 candidates, totalling 24 fits\n"
     ]
    },
    {
     "name": "stderr",
     "output_type": "stream",
     "text": [
      "python(9551) MallocStackLogging: can't turn off malloc stack logging because it was not enabled.\n",
      "python(9552) MallocStackLogging: can't turn off malloc stack logging because it was not enabled.\n",
      "python(9553) MallocStackLogging: can't turn off malloc stack logging because it was not enabled.\n",
      "python(9554) MallocStackLogging: can't turn off malloc stack logging because it was not enabled.\n",
      "python(9555) MallocStackLogging: can't turn off malloc stack logging because it was not enabled.\n",
      "python(9556) MallocStackLogging: can't turn off malloc stack logging because it was not enabled.\n",
      "python(9557) MallocStackLogging: can't turn off malloc stack logging because it was not enabled.\n",
      "python(9558) MallocStackLogging: can't turn off malloc stack logging because it was not enabled.\n",
      "python(9559) MallocStackLogging: can't turn off malloc stack logging because it was not enabled.\n",
      "python(9560) MallocStackLogging: can't turn off malloc stack logging because it was not enabled.\n"
     ]
    },
    {
     "name": "stdout",
     "output_type": "stream",
     "text": [
      "[CV] END ....................C=0.01, penalty=l1, solver=saga; total time=   0.1s\n",
      "[CV] END .....................C=0.1, penalty=l1, solver=saga; total time=   0.1s\n",
      "[CV] END ....................C=0.01, penalty=l1, solver=saga; total time=   0.1s\n",
      "[CV] END ....................C=0.01, penalty=l1, solver=saga; total time=   0.1s\n",
      "[CV] END .....................C=0.1, penalty=l1, solver=saga; total time=   0.1s\n",
      "[CV] END ......................C=10, penalty=l1, solver=saga; total time=   0.1s\n",
      "[CV] END .......................C=1, penalty=l1, solver=saga; total time=   0.1s\n",
      "[CV] END .....................C=0.1, penalty=l1, solver=saga; total time=   0.1s\n",
      "[CV] END ....................C=0.01, penalty=l2, solver=saga; total time=   0.0s\n",
      "[CV] END ....................C=0.01, penalty=l2, solver=saga; total time=   0.0s\n",
      "[CV] END ....................C=0.01, penalty=l2, solver=saga; total time=   0.0s\n",
      "[CV] END ......................C=10, penalty=l1, solver=saga; total time=   0.1s\n",
      "[CV] END .......................C=1, penalty=l1, solver=saga; total time=   0.1s\n",
      "[CV] END .....................C=0.1, penalty=l2, solver=saga; total time=   0.0s\n",
      "[CV] END .......................C=1, penalty=l1, solver=saga; total time=   0.2s\n",
      "[CV] END .....................C=0.1, penalty=l2, solver=saga; total time=   0.0s\n",
      "[CV] END .....................C=0.1, penalty=l2, solver=saga; total time=   0.0s\n",
      "[CV] END .......................C=1, penalty=l2, solver=saga; total time=   0.1s\n",
      "[CV] END .......................C=1, penalty=l2, solver=saga; total time=   0.1s\n",
      "[CV] END ......................C=10, penalty=l2, solver=saga; total time=   0.1s\n",
      "[CV] END ......................C=10, penalty=l2, solver=saga; total time=   0.0s\n",
      "[CV] END ......................C=10, penalty=l1, solver=saga; total time=   0.1s\n",
      "[CV] END .......................C=1, penalty=l2, solver=saga; total time=   0.1s\n",
      "[CV] END ......................C=10, penalty=l2, solver=saga; total time=   0.1s\n",
      "\n",
      "✅ Grid Search Complete\n",
      "Best Score: 0.8596999717970898\n",
      "Best Parameters: {'C': 1, 'penalty': 'l1', 'solver': 'saga'}\n"
     ]
    }
   ],
   "source": [
    "from sklearn.linear_model import LogisticRegression\n",
    "from sklearn.model_selection import GridSearchCV\n",
    "from sklearn.exceptions import ConvergenceWarning\n",
    "import warnings\n",
    "\n",
    "# Silence convergence warnings to avoid clutter and crashes\n",
    "warnings.filterwarnings(\"ignore\", category=ConvergenceWarning)\n",
    "\n",
    "# Optional: sample a subset for tuning to speed up GridSearchCV\n",
    "sample_size = 20000\n",
    "X_train_sampled = X_train_scaled.sample(sample_size, random_state=42)\n",
    "y_train_sampled = y_train.loc[X_train_sampled.index]\n",
    "\n",
    "# Define base model\n",
    "lr_base = LogisticRegression(\n",
    "    random_state=42,\n",
    "    max_iter=1000,                # Allow enough iterations for convergence\n",
    "    class_weight='balanced',      # Handle class imbalance\n",
    "    tol=0.01                      # Relax convergence criteria for speed\n",
    ")\n",
    "\n",
    "# Define a safe and compatible parameter grid\n",
    "param_grid_lr = [\n",
    "    {'penalty': ['l1'], 'C': [0.01, 0.1, 1, 10], 'solver': ['saga']},\n",
    "    {'penalty': ['l2'], 'C': [0.01, 0.1, 1, 10], 'solver': ['saga']}\n",
    "]\n",
    "\n",
    "# Create and run GridSearchCV\n",
    "grid_search_lr = GridSearchCV(\n",
    "    estimator=lr_base,\n",
    "    param_grid=param_grid_lr,\n",
    "    scoring='accuracy',\n",
    "    cv=3,\n",
    "    n_jobs=-1,\n",
    "    verbose=2\n",
    ")\n",
    "\n",
    "print(\"\\n--- Running Grid Search for Logistic Regression ---\")\n",
    "grid_search_lr.fit(X_train_sampled, y_train_sampled)\n",
    "\n",
    "# Get best model from grid search\n",
    "best_lr_model = grid_search_lr.best_estimator_\n",
    "\n",
    "print(\"\\n✅ Grid Search Complete\")\n",
    "print(\"Best Score:\", grid_search_lr.best_score_)\n",
    "print(\"Best Parameters:\", grid_search_lr.best_params_)"
   ]
  },
  {
   "cell_type": "code",
   "execution_count": 35,
   "id": "f9e21602",
   "metadata": {},
   "outputs": [
    {
     "name": "stdout",
     "output_type": "stream",
     "text": [
      "\n",
      "--- Training Final Logistic Regression Model ---\n",
      "✅ Final Model Trained Successfully\n"
     ]
    }
   ],
   "source": [
    "#  Train final model on the full training set using optimized params\n",
    "\n",
    "# Extract and clean up only relevant hyperparameters\n",
    "best_params = grid_search_lr.best_params_\n",
    "final_params = {\n",
    "    'penalty': best_params['penalty'],\n",
    "    'C': best_params['C'],\n",
    "    'solver': best_params['solver'],\n",
    "    'random_state': 42,\n",
    "    'max_iter': 500,            # Reduce to speed up final training\n",
    "    'tol': 0.05,                # Relax tolerance further\n",
    "    'class_weight': 'balanced' # Maintain balance handling\n",
    "}\n",
    "\n",
    "# Train the final model\n",
    "final_lr_model = LogisticRegression(**final_params)\n",
    "print(\"\\n--- Training Final Logistic Regression Model ---\")\n",
    "final_lr_model.fit(X_train_scaled, y_train)\n",
    "print(\"✅ Final Model Trained Successfully\")"
   ]
  },
  {
   "cell_type": "code",
   "execution_count": 36,
   "id": "24f746ae",
   "metadata": {},
   "outputs": [
    {
     "name": "stdout",
     "output_type": "stream",
     "text": [
      "Accuracy: 0.8604670131186261\n",
      "Classification Report:\n",
      "               precision    recall  f1-score   support\n",
      "\n",
      "           0       0.72      0.99      0.83   2634047\n",
      "           1       0.99      0.79      0.88   4869254\n",
      "\n",
      "    accuracy                           0.86   7503301\n",
      "   macro avg       0.86      0.89      0.86   7503301\n",
      "weighted avg       0.90      0.86      0.86   7503301\n",
      "\n"
     ]
    }
   ],
   "source": [
    "from sklearn.metrics import classification_report, accuracy_score\n",
    "\n",
    "y_pred = final_lr_model.predict(X_test_scaled)\n",
    "print(\"Accuracy:\", accuracy_score(y_test, y_pred))\n",
    "print(\"Classification Report:\\n\", classification_report(y_test, y_pred))"
   ]
  },
  {
   "cell_type": "code",
   "execution_count": null,
   "id": "cd6acabd",
   "metadata": {},
   "outputs": [],
   "source": [
    "# from sklearn.linear_model import LogisticRegression\n",
    "# from sklearn.model_selection import cross_validate\n",
    "\n",
    "# print(\"Performing 5-fold cross-validation...\")\n",
    "# print(\"This will take a while with 7.8M samples...\\n\")\n",
    "\n",
    "# # Define scoring metrics\n",
    "# scoring = {\n",
    "#     'accuracy': 'accuracy',\n",
    "#     'precision': 'precision',\n",
    "#     'recall': 'recall',\n",
    "#     'f1': 'f1'\n",
    "# }\n",
    "\n",
    "# # Train Logistic Regression\n",
    "# print(\"Training Logistic Regression model...\")\n",
    "# lr_model = LogisticRegression(\n",
    "# )\n",
    "\n",
    "# # Perform cross-validation\n",
    "# cv_results = cross_validate(\n",
    "#     lr_model,\n",
    "#     X_train_scaled,\n",
    "#     y_train,\n",
    "#     cv=5,  # 5-fold CV\n",
    "#     scoring=scoring,\n",
    "#     n_jobs=-1,  # Parallel processing\n",
    "#     verbose=1,\n",
    "#     return_train_score=True\n",
    "# )\n",
    "\n",
    "# # Display results\n",
    "# print(\"\\n=== CROSS-VALIDATION RESULTS (5-FOLD) ===\")\n",
    "# for metric in scoring.keys():\n",
    "#     train_scores = cv_results[f'train_{metric}']\n",
    "#     val_scores = cv_results[f'test_{metric}']\n",
    "\n",
    "#     print(f\"\\n{metric.upper()}:\")\n",
    "#     print(f\"  Train: {train_scores.mean():.4f} (+/- {train_scores.std() * 2:.4f})\")\n",
    "#     print(f\"  Val:   {val_scores.mean():.4f} (+/- {val_scores.std() * 2:.4f})\")\n",
    "#     print(f\"  Gap:   {abs(train_scores.mean() - val_scores.mean()):.4f}\")\n"
   ]
  },
  {
   "cell_type": "code",
   "execution_count": null,
   "id": "85759b94",
   "metadata": {},
   "outputs": [],
   "source": [
    "# df_clean.head(10)"
   ]
  },
  {
   "cell_type": "code",
   "execution_count": null,
   "id": "eb1fb264",
   "metadata": {},
   "outputs": [],
   "source": [
    "# from sklearn.ensemble import RandomForestClassifier"
   ]
  },
  {
   "cell_type": "code",
   "execution_count": null,
   "id": "0acebde5",
   "metadata": {},
   "outputs": [],
   "source": [
    "# clf = RandomForestClassifier(\n",
    "#     n_estimators=100,\n",
    "#     random_state=42,\n",
    "#     n_jobs=-1)\n",
    "\n",
    "# clf.fit(X_train_scaled, y_train)"
   ]
  },
  {
   "cell_type": "code",
   "execution_count": null,
   "id": "1a3309a0",
   "metadata": {},
   "outputs": [],
   "source": [
    "# from sklearn.metrics import classification_report, accuracy_score\n"
   ]
  },
  {
   "cell_type": "code",
   "execution_count": null,
   "id": "bee15036",
   "metadata": {},
   "outputs": [],
   "source": [
    "# y_pred = clf.predict(X_test_scaled)\n",
    "# print(\"Accuracy:\", accuracy_score(y_test, y_pred))\n",
    "# print(\"Classification Report:\\n\", classification_report(y_test, y_pred))"
   ]
  }
 ],
 "metadata": {
  "kernelspec": {
   "display_name": "FlowGuard",
   "language": "python",
   "name": "python3"
  },
  "language_info": {
   "codemirror_mode": {
    "name": "ipython",
    "version": 3
   },
   "file_extension": ".py",
   "mimetype": "text/x-python",
   "name": "python",
   "nbconvert_exporter": "python",
   "pygments_lexer": "ipython3",
   "version": "3.10.6"
  }
 },
 "nbformat": 4,
 "nbformat_minor": 5
}
