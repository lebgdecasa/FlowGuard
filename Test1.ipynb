{
 "cells": [
  {
   "cell_type": "code",
   "execution_count": 3,
   "id": "8e14eafb",
   "metadata": {},
   "outputs": [],
   "source": [
    "import pandas as pd\n",
    "import numpy as np\n",
    "import os\n",
    "from sklearn.model_selection import train_test_split, cross_val_score, StratifiedKFold\n",
    "from sklearn.metrics import classification_report, accuracy_score, confusion_matrix\n",
    "from collections import Counter\n",
    "import matplotlib.pyplot as plt\n",
    "import seaborn as sns\n",
    "import kagglehub"
   ]
  },
  {
   "cell_type": "code",
   "execution_count": 4,
   "id": "22ba8e7f",
   "metadata": {},
   "outputs": [
    {
     "name": "stdout",
     "output_type": "stream",
     "text": [
      "Dataset already downloaded.\n",
      "Files in dataset folder: ['CTU-IoT-Malware-Capture-35-1conn.log.labeled.csv', 'CTU-IoT-Malware-Capture-3-1conn.log.labeled.csv', 'CTU-IoT-Malware-Capture-9-1conn.log.labeled.csv', 'CTU-IoT-Malware-Capture-1-1conn.log.labeled.csv', 'CTU-IoT-Malware-Capture-21-1conn.log.labeled.csv', 'CTU-IoT-Malware-Capture-34-1conn.log.labeled.csv', 'CTU-IoT-Malware-Capture-60-1conn.log.labeled.csv', 'CTU-IoT-Malware-Capture-20-1conn.log.labeled.csv', 'CTU-IoT-Malware-Capture-48-1conn.log.labeled.csv', 'CTU-IoT-Malware-Capture-42-1conn.log.labeled.csv']\n",
      "Path to dataset files: /Users/jadlahrichi/.cache/kagglehub/datasets/agungpambudi/network-malware-detection-connection-analysis/versions/1\n"
     ]
    },
    {
     "name": "stderr",
     "output_type": "stream",
     "text": [
      "/var/folders/wx/l8wg57xn4zg_6jvfv7d2rly40000gn/T/ipykernel_29584/2986246779.py:40: FutureWarning: A value is trying to be set on a copy of a DataFrame or Series through chained assignment using an inplace method.\n",
      "The behavior will change in pandas 3.0. This inplace method will never work because the intermediate object on which we are setting values always behaves as a copy.\n",
      "\n",
      "For example, when doing 'df[col].method(value, inplace=True)', try using 'df.method({col: value}, inplace=True)' or df[col] = df[col].method(value) instead, to perform the operation inplace on the original object.\n",
      "\n",
      "\n",
      "  data[col].fillna(0, inplace=True)  # Replace NaNs with 0\n"
     ]
    },
    {
     "name": "stdout",
     "output_type": "stream",
     "text": [
      "=== DATA BALANCE ANALYSIS ===\n",
      "Class distribution: Counter({0: 8262389, 1: 2185398})\n",
      "Class 0 (Benign): 8262389 (79.08%)\n",
      "Class 1 (Malicious): 2185398 (20.92%)\n",
      "Imbalance ratio: 3.78:1\n",
      "Dataset is imbalanced\n",
      "\n",
      "=== APPLYING DATA BALANCING ===\n",
      "Balancing method used: SMOTE\n",
      "Balanced class distribution: Counter({1: 8262389, 0: 8262389})\n",
      "New dataset size: 16524778 (original: 10447787)\n"
     ]
    },
    {
     "data": {
      "image/png": "[encoded data removed]",
      "text/plain": [
       "<Figure size 640x480 with 1 Axes>"
      ]
     },
     "metadata": {},
     "output_type": "display_data"
    }
   ],
   "source": [
    "import os\n",
    "\n",
    "try:\n",
    "    from imblearn.over_sampling import SMOTE\n",
    "    from imblearn.combine import SMOTETomek\n",
    "    IMBALANCED_LEARN_AVAILABLE = True\n",
    "except ImportError:\n",
    "    print(\"Warning: imbalanced-learn not available. Install with: pip install imbalanced-learn\")\n",
    "    IMBALANCED_LEARN_AVAILABLE = False\n",
    "\n",
    "# Define the path where files will be extracted\n",
    "dataset_path = \"/Users/jadlahrichi/.cache/kagglehub/datasets/agungpambudi/network-malware-detection-connection-analysis/versions/1\"\n",
    "\n",
    "# Download selected version only if not already downloaded\n",
    "if not os.path.exists(dataset_path) or not os.listdir(dataset_path):\n",
    "    path = kagglehub.dataset_download(\"agungpambudi/network-malware-detection-connection-analysis/versions/1\")\n",
    "else:\n",
    "    print(\"Dataset already downloaded.\")\n",
    "    path = dataset_path\n",
    "\n",
    "# List files in that directory\n",
    "files = os.listdir(dataset_path)\n",
    "print(\"Files in dataset folder:\", files)\n",
    "\n",
    "# Assuming there's one large CSV (you can adjust this if needed)\n",
    "csv_file = next((f for f in files if f.endswith(\".csv\")), None)\n",
    "\n",
    "# Read the CSV (pipe-separated, as in CTU datasets)\n",
    "data = pd.read_csv(os.path.join(dataset_path, csv_file), sep='|', low_memory=False)\n",
    "\n",
    "print(\"Path to dataset files:\", path)\n",
    "drop_cols = ['uid', 'history', 'tunnel_parents', 'detailed-label', 'local_resp', 'local_orig', 'missed_bytes']\n",
    "data.drop(columns=drop_cols, inplace=True, errors='ignore')\n",
    "\n",
    "data.dropna(subset=['label', 'proto', 'service', 'duration', 'orig_bytes', 'resp_bytes'], inplace=True)\n",
    "\n",
    "for col in ['duration', 'orig_bytes', 'resp_bytes']:\n",
    "    data[col] = data[col].replace('-', np.nan)  # Replace '-' with NaN\n",
    "    data[col] = pd.to_numeric(data[col], errors='coerce')  # Convert to numeric\n",
    "    data[col].fillna(0, inplace=True)  # Replace NaNs with 0\n",
    "\n",
    "data['proto'] = data['proto'].astype('category').cat.codes\n",
    "data['service'] = data['service'].astype('category').cat.codes\n",
    "\n",
    "data['label'] = data['label'].apply(lambda x: 0 if x == 'Benign' else 1)\n",
    "\n",
    "features = ['proto', 'service', 'duration', 'orig_bytes', 'resp_bytes']\n",
    "X = data[features]\n",
    "y = data['label']\n",
    "\n",
    "print(\"=== DATA BALANCE ANALYSIS ===\")\n",
    "class_distribution = Counter(y)\n",
    "print(f\"Class distribution: {class_distribution}\")\n",
    "print(f\"Class 0 (Benign): {class_distribution[0]} ({class_distribution[0]/len(y)*100:.2f}%)\")\n",
    "print(f\"Class 1 (Malicious): {class_distribution[1]} ({class_distribution[1]/len(y)*100:.2f}%)\")\n",
    "\n",
    "# Calculate imbalance ratio\n",
    "minority_class = min(class_distribution.values())\n",
    "majority_class = max(class_distribution.values())\n",
    "imbalance_ratio = majority_class / minority_class\n",
    "print(f\"Imbalance ratio: {imbalance_ratio:.2f}:1\")\n",
    "\n",
    "is_imbalanced = imbalance_ratio > 2.0\n",
    "print(f\"Dataset is {'imbalanced' if is_imbalanced else 'balanced'}\")\n",
    "\n",
    "X_balanced, y_balanced = X.copy(), y.copy()\n",
    "\n",
    "if is_imbalanced and IMBALANCED_LEARN_AVAILABLE:\n",
    "    print(\"\\n=== APPLYING DATA BALANCING ===\")\n",
    "    smote = SMOTE(random_state=42)\n",
    "    X_balanced, y_balanced = smote.fit_resample(X, y)\n",
    "    print(\"Balancing method used: SMOTE\")\n",
    "    balanced_distribution = Counter(y_balanced)\n",
    "    print(f\"Balanced class distribution: {balanced_distribution}\")\n",
    "    print(f\"New dataset size: {len(y_balanced)} (original: {len(y)})\")\n",
    "\n",
    "    plt.subplot(1, 2, 2)\n",
    "    plt.bar(balanced_distribution.keys(), balanced_distribution.values())\n",
    "    plt.title('Balanced Class Distribution (SMOTE)')\n",
    "    plt.xlabel('Class')\n",
    "    plt.ylabel('Count')\n",
    "\n",
    "elif is_imbalanced and not IMBALANCED_LEARN_AVAILABLE:\n",
    "    print(\"\\n=== MANUAL BALANCING (Simple Random Oversampling) ===\")\n",
    "    # Simple manual balancing if imbalanced-learn is not available\n",
    "    minority_class_label = 0 if class_distribution[0] < class_distribution[1] else 1\n",
    "    majority_class_label = 1 - minority_class_label\n",
    "\n",
    "    # Get indices for each class\n",
    "    minority_indices = y[y == minority_class_label].index\n",
    "    majority_indices = y[y == majority_class_label].index\n",
    "\n",
    "    # Oversample minority class\n",
    "    n_samples_needed = len(majority_indices) - len(minority_indices)\n",
    "    oversampled_indices = np.random.choice(minority_indices, n_samples_needed, replace=True)\n",
    "\n",
    "    # Combine all indices\n",
    "    balanced_indices = np.concatenate([majority_indices, minority_indices, oversampled_indices])\n",
    "\n",
    "    # Create balanced dataset\n",
    "    X_balanced = X.iloc[balanced_indices].reset_index(drop=True)\n",
    "    y_balanced = y.iloc[balanced_indices].reset_index(drop=True)\n",
    "\n",
    "    print(\"Balancing method used: Random Oversampling\")\n",
    "    balanced_distribution = Counter(y_balanced)\n",
    "    print(f\"Balanced class distribution: {balanced_distribution}\")\n",
    "\n",
    "plt.tight_layout()\n",
    "plt.show()\n"
   ]
  },
  {
   "cell_type": "code",
   "execution_count": 3,
   "id": "73616a8e",
   "metadata": {},
   "outputs": [
    {
     "name": "stdout",
     "output_type": "stream",
     "text": [
      "Data split into training and testing sets.\n"
     ]
    }
   ],
   "source": [
    "X_train, X_test, y_train, y_test = train_test_split(\n",
    "    X_balanced, y_balanced, test_size=0.3, stratify=y_balanced, random_state=42\n",
    ")\n",
    "print(\"Data split into training and testing sets.\")\n"
   ]
  },
  {
   "cell_type": "markdown",
   "id": "df97357d",
   "metadata": {},
   "source": [
    "\n",
    "---\n",
    "### Using GPU with XGBoost\n",
    "\n",
    "To leverage the GPU, we can use the `XGBoost` library, which supports Apple Silicon GPUs. First, we need to install it.\n"
   ]
  },
  {
   "cell_type": "code",
   "execution_count": 4,
   "id": "f1aab4af",
   "metadata": {},
   "outputs": [
    {
     "name": "stdout",
     "output_type": "stream",
     "text": [
      "Requirement already satisfied: xgboost in /Users/jadlahrichi/.pyenv/versions/3.10.6/envs/lewagon/lib/python3.10/site-packages (1.6.2)\n",
      "Requirement already satisfied: numpy in /Users/jadlahrichi/.pyenv/versions/3.10.6/envs/lewagon/lib/python3.10/site-packages (from xgboost) (1.26.4)\n",
      "Requirement already satisfied: scipy in /Users/jadlahrichi/.pyenv/versions/3.10.6/envs/lewagon/lib/python3.10/site-packages (from xgboost) (1.15.2)\n",
      "Note: you may need to restart the kernel to use updated packages.\n",
      "Note: you may need to restart the kernel to use updated packages.\n"
     ]
    }
   ],
   "source": [
    "\n",
    "%pip install xgboost\n"
   ]
  },
  {
   "cell_type": "markdown",
   "id": "6823dd2f",
   "metadata": {},
   "source": [
    "\n",
    "Now, let's train an XGBoost classifier using the GPU.\n"
   ]
  },
  {
   "cell_type": "code",
   "execution_count": 5,
   "id": "51710871",
   "metadata": {},
   "outputs": [
    {
     "name": "stdout",
     "output_type": "stream",
     "text": [
      "MPS not available, using CPU.\n"
     ]
    }
   ],
   "source": [
    "\n",
    "import xgboost as xgb\n",
    "\n",
    "# Check if MPS is available\n",
    "if xgb.config.get_config().get(\"USE_MPS\", False):\n",
    "    print(\"MPS is available, using GPU.\")\n",
    "    device = \"mps\"\n",
    "else:\n",
    "    print(\"MPS not available, using CPU.\")\n",
    "    device = \"cpu\"\n",
    "\n",
    "# Create an XGBoost classifier\n",
    "# The `device` parameter is set to \"mps\" to enable GPU acceleration on Apple Silicon.\n",
    "# All other parameters are set to be similar to the RandomForestClassifier for comparison.\n",
    "xgb_clf = xgb.XGBClassifier(\n",
    "    n_estimators=100,\n",
    "    random_state=42,\n",
    "    device=device,  # Use 'mps' for Apple Silicon GPU\n",
    "    eval_metric='logloss',\n",
    "    use_label_encoder=False\n",
    ")\n"
   ]
  },
  {
   "cell_type": "code",
   "execution_count": 6,
   "id": "15f7d4b2",
   "metadata": {},
   "outputs": [
    {
     "name": "stdout",
     "output_type": "stream",
     "text": [
      "\n",
      "=== XGBoost CROSS-VALIDATION ANALYSIS (GPU) ===\n",
      "[21:06:23] WARNING: /Users/runner/work/xgboost/xgboost/python-package/build/temp.macosx-11.0-arm64-cpython-38/xgboost/src/learner.cc:627: \n",
      "Parameters: { \"device\" } might not be used.\n",
      "\n",
      "  This could be a false alarm, with some parameters getting used by language bindings but\n",
      "  then being mistakenly passed down to XGBoost core, or some parameter actually being used\n",
      "  but getting flagged wrongly here. Please open an issue if you find any such cases.\n",
      "\n",
      "\n",
      "[21:06:23] WARNING: /Users/runner/work/xgboost/xgboost/python-package/build/temp.macosx-11.0-arm64-cpython-38/xgboost/src/learner.cc:627: \n",
      "Parameters: { \"device\" } might not be used.\n",
      "\n",
      "  This could be a false alarm, with some parameters getting used by language bindings but\n",
      "  then being mistakenly passed down to XGBoost core, or some parameter actually being used\n",
      "  but getting flagged wrongly here. Please open an issue if you find any such cases.\n",
      "\n",
      "\n",
      "[21:07:14] WARNING: /Users/runner/work/xgboost/xgboost/python-package/build/temp.macosx-11.0-arm64-cpython-38/xgboost/src/learner.cc:627: \n",
      "Parameters: { \"device\" } might not be used.\n",
      "\n",
      "  This could be a false alarm, with some parameters getting used by language bindings but\n",
      "  then being mistakenly passed down to XGBoost core, or some parameter actually being used\n",
      "  but getting flagged wrongly here. Please open an issue if you find any such cases.\n",
      "\n",
      "\n",
      "[21:07:14] WARNING: /Users/runner/work/xgboost/xgboost/python-package/build/temp.macosx-11.0-arm64-cpython-38/xgboost/src/learner.cc:627: \n",
      "Parameters: { \"device\" } might not be used.\n",
      "\n",
      "  This could be a false alarm, with some parameters getting used by language bindings but\n",
      "  then being mistakenly passed down to XGBoost core, or some parameter actually being used\n",
      "  but getting flagged wrongly here. Please open an issue if you find any such cases.\n",
      "\n",
      "\n",
      "[21:08:02] WARNING: /Users/runner/work/xgboost/xgboost/python-package/build/temp.macosx-11.0-arm64-cpython-38/xgboost/src/learner.cc:627: \n",
      "Parameters: { \"device\" } might not be used.\n",
      "\n",
      "  This could be a false alarm, with some parameters getting used by language bindings but\n",
      "  then being mistakenly passed down to XGBoost core, or some parameter actually being used\n",
      "  but getting flagged wrongly here. Please open an issue if you find any such cases.\n",
      "\n",
      "\n",
      "[21:08:02] WARNING: /Users/runner/work/xgboost/xgboost/python-package/build/temp.macosx-11.0-arm64-cpython-38/xgboost/src/learner.cc:627: \n",
      "Parameters: { \"device\" } might not be used.\n",
      "\n",
      "  This could be a false alarm, with some parameters getting used by language bindings but\n",
      "  then being mistakenly passed down to XGBoost core, or some parameter actually being used\n",
      "  but getting flagged wrongly here. Please open an issue if you find any such cases.\n",
      "\n",
      "\n",
      "[21:08:49] WARNING: /Users/runner/work/xgboost/xgboost/python-package/build/temp.macosx-11.0-arm64-cpython-38/xgboost/src/learner.cc:627: \n",
      "Parameters: { \"device\" } might not be used.\n",
      "\n",
      "  This could be a false alarm, with some parameters getting used by language bindings but\n",
      "  then being mistakenly passed down to XGBoost core, or some parameter actually being used\n",
      "  but getting flagged wrongly here. Please open an issue if you find any such cases.\n",
      "\n",
      "\n",
      "[21:08:49] WARNING: /Users/runner/work/xgboost/xgboost/python-package/build/temp.macosx-11.0-arm64-cpython-38/xgboost/src/learner.cc:627: \n",
      "Parameters: { \"device\" } might not be used.\n",
      "\n",
      "  This could be a false alarm, with some parameters getting used by language bindings but\n",
      "  then being mistakenly passed down to XGBoost core, or some parameter actually being used\n",
      "  but getting flagged wrongly here. Please open an issue if you find any such cases.\n",
      "\n",
      "\n",
      "[21:09:37] WARNING: /Users/runner/work/xgboost/xgboost/python-package/build/temp.macosx-11.0-arm64-cpython-38/xgboost/src/learner.cc:627: \n",
      "Parameters: { \"device\" } might not be used.\n",
      "\n",
      "  This could be a false alarm, with some parameters getting used by language bindings but\n",
      "  then being mistakenly passed down to XGBoost core, or some parameter actually being used\n",
      "  but getting flagged wrongly here. Please open an issue if you find any such cases.\n",
      "\n",
      "\n",
      "[21:09:37] WARNING: /Users/runner/work/xgboost/xgboost/python-package/build/temp.macosx-11.0-arm64-cpython-38/xgboost/src/learner.cc:627: \n",
      "Parameters: { \"device\" } might not be used.\n",
      "\n",
      "  This could be a false alarm, with some parameters getting used by language bindings but\n",
      "  then being mistakenly passed down to XGBoost core, or some parameter actually being used\n",
      "  but getting flagged wrongly here. Please open an issue if you find any such cases.\n",
      "\n",
      "\n",
      "Cross-validation scores: [0.92795335 0.92805986 0.92787317 0.92776119 0.92792186]\n",
      "Mean CV accuracy: 0.9279 (+/- 0.0002)\n",
      "Cross-validation scores: [0.92795335 0.92805986 0.92787317 0.92776119 0.92792186]\n",
      "Mean CV accuracy: 0.9279 (+/- 0.0002)\n"
     ]
    }
   ],
   "source": [
    "print(\"\\n=== XGBoost CROSS-VALIDATION ANALYSIS (GPU) ===\")\n",
    "cv = StratifiedKFold(n_splits=5, shuffle=True, random_state=42)\n",
    "cv_scores = cross_val_score(xgb_clf, X_balanced, y_balanced, cv=cv, scoring='accuracy')\n",
    "\n",
    "print(f\"Cross-validation scores: {cv_scores}\")\n",
    "print(f\"Mean CV accuracy: {cv_scores.mean():.4f} (+/- {cv_scores.std() * 2:.4f})\")"
   ]
  },
  {
   "cell_type": "code",
   "execution_count": 7,
   "id": "e1b6c50f",
   "metadata": {},
   "outputs": [
    {
     "name": "stdout",
     "output_type": "stream",
     "text": [
      "\n",
      "=== XGBoost FINAL MODEL TRAINING (GPU) ===\n",
      "[21:10:24] WARNING: /Users/runner/work/xgboost/xgboost/python-package/build/temp.macosx-11.0-arm64-cpython-38/xgboost/src/learner.cc:627: \n",
      "Parameters: { \"device\" } might not be used.\n",
      "\n",
      "  This could be a false alarm, with some parameters getting used by language bindings but\n",
      "  then being mistakenly passed down to XGBoost core, or some parameter actually being used\n",
      "  but getting flagged wrongly here. Please open an issue if you find any such cases.\n",
      "\n",
      "\n",
      "[21:10:24] WARNING: /Users/runner/work/xgboost/xgboost/python-package/build/temp.macosx-11.0-arm64-cpython-38/xgboost/src/learner.cc:627: \n",
      "Parameters: { \"device\" } might not be used.\n",
      "\n",
      "  This could be a false alarm, with some parameters getting used by language bindings but\n",
      "  then being mistakenly passed down to XGBoost core, or some parameter actually being used\n",
      "  but getting flagged wrongly here. Please open an issue if you find any such cases.\n",
      "\n",
      "\n",
      "Test Set Results (XGBoost):\n",
      "Test Set Results (XGBoost):\n",
      "Accuracy: 0.9279\n",
      "Accuracy: 0.9279\n",
      "Classification Report:\n",
      "              precision    recall  f1-score   support\n",
      "\n",
      "           0       0.88      1.00      0.93   2478717\n",
      "           1       1.00      0.86      0.92   2478717\n",
      "\n",
      "    accuracy                           0.93   4957434\n",
      "   macro avg       0.94      0.93      0.93   4957434\n",
      "weighted avg       0.94      0.93      0.93   4957434\n",
      "\n",
      "Classification Report:\n",
      "              precision    recall  f1-score   support\n",
      "\n",
      "           0       0.88      1.00      0.93   2478717\n",
      "           1       1.00      0.86      0.92   2478717\n",
      "\n",
      "    accuracy                           0.93   4957434\n",
      "   macro avg       0.94      0.93      0.93   4957434\n",
      "weighted avg       0.94      0.93      0.93   4957434\n",
      "\n"
     ]
    }
   ],
   "source": [
    "print(\"\\n=== XGBoost FINAL MODEL TRAINING (GPU) ===\")\n",
    "xgb_clf.fit(X_train, y_train)\n",
    "\n",
    "y_pred_xgb = xgb_clf.predict(X_test)\n",
    "print(\"Test Set Results (XGBoost):\")\n",
    "print(f\"Accuracy: {accuracy_score(y_test, y_pred_xgb):.4f}\")\n",
    "print(f\"Classification Report:\\n{classification_report(y_test, y_pred_xgb)}\")"
   ]
  },
  {
   "cell_type": "code",
   "execution_count": 8,
   "id": "e67a889c",
   "metadata": {},
   "outputs": [
    {
     "name": "stdout",
     "output_type": "stream",
     "text": [
      "\n",
      "=== DETAILED EVALUATION (XGBoost) ===\n",
      "Confusion Matrix (XGBoost):\n",
      "[[2473348    5369]\n",
      " [ 351977 2126740]]\n",
      "Confusion Matrix (XGBoost):\n",
      "[[2473348    5369]\n",
      " [ 351977 2126740]]\n"
     ]
    }
   ],
   "source": [
    "print(\"\\n=== DETAILED EVALUATION (XGBoost) ===\")\n",
    "cm_xgb = confusion_matrix(y_test, y_pred_xgb)\n",
    "print(\"Confusion Matrix (XGBoost):\")\n",
    "print(cm_xgb)"
   ]
  },
  {
   "cell_type": "code",
   "execution_count": 9,
   "id": "b39c17cc",
   "metadata": {},
   "outputs": [
    {
     "name": "stdout",
     "output_type": "stream",
     "text": [
      "Model saved to flowguard_xgboost_model.pkl\n",
      "Preprocessing data saved to flowguard_preprocessing.json\n"
     ]
    }
   ],
   "source": [
    "import joblib\n",
    "import json\n",
    "\n",
    "# --- EXPORTING MODEL AND PREPROCESSING OBJECTS ---\n",
    "\n",
    "# 1. Save the trained XGBoost model\n",
    "model_filename = 'flowguard_xgboost_model.pkl'\n",
    "joblib.dump(xgb_clf, model_filename)\n",
    "print(f\"Model saved to {model_filename}\")\n",
    "\n",
    "# 2. Save the feature list and categorical mappings\n",
    "# Re-create categorical types to save the learned categories\n",
    "proto_dtype = pd.CategoricalDtype(categories=data['proto'].astype('category').cat.categories)\n",
    "service_dtype = pd.CategoricalDtype(categories=data['service'].astype('category').cat.categories)\n",
    "\n",
    "preprocessing_data = {\n",
    "    'features': features,\n",
    "    'proto_categories': list(proto_dtype.categories),\n",
    "    'service_categories': list(service_dtype.categories)\n",
    "}\n",
    "\n",
    "preprocessing_filename = 'flowguard_preprocessing.json'\n",
    "with open(preprocessing_filename, 'w') as f:\n",
    "    json.dump(preprocessing_data, f)\n",
    "print(f\"Preprocessing data saved to {preprocessing_filename}\")\n"
   ]
  },
  {
   "cell_type": "code",
   "execution_count": null,
   "id": "a86f4871",
   "metadata": {},
   "outputs": [],
   "source": []
  }
 ],
 "metadata": {
  "kernelspec": {
   "display_name": "lewagon",
   "language": "python",
   "name": "python3"
  },
  "language_info": {
   "codemirror_mode": {
    "name": "ipython",
    "version": 3
   },
   "file_extension": ".py",
   "mimetype": "text/x-python",
   "name": "python",
   "nbconvert_exporter": "python",
   "pygments_lexer": "ipython3",
   "version": "3.10.6"
  }
 },
 "nbformat": 4,
 "nbformat_minor": 5
}
