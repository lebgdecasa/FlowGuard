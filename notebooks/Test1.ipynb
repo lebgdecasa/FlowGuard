{
 "cells": [
  {
   "cell_type": "code",
   "execution_count": 2,
   "id": "8e14eafb",
   "metadata": {},
   "outputs": [],
   "source": [
    "import pandas as pd\n",
    "import numpy as np\n",
    "import os\n",
    "from sklearn.model_selection import train_test_split, cross_val_score, StratifiedKFold\n",
    "from sklearn.metrics import classification_report, accuracy_score, confusion_matrix\n",
    "from collections import Counter\n",
    "import matplotlib.pyplot as plt\n",
    "import seaborn as sns\n",
    "import kagglehub"
   ]
  },
  {
   "cell_type": "code",
   "execution_count": 3,
   "id": "22ba8e7f",
   "metadata": {},
   "outputs": [],
   "source": [
    "try:\n",
    "    from imblearn.over_sampling import SMOTE\n",
    "    from imblearn.combine import SMOTETomek\n",
    "    IMBALANCED_LEARN_AVAILABLE = True\n",
    "except ImportError:\n",
    "    print(\"Warning: imbalanced-learn not available. Install with: pip install imbalanced-learn\")\n",
    "    IMBALANCED_LEARN_AVAILABLE = False\n",
    "\n",
    "data_test = pd.read_csv('../raw_data/merged_data.csv', sep='|', low_memory=False)"
   ]
  },
  {
   "cell_type": "code",
   "execution_count": 4,
   "id": "893e6fa9",
   "metadata": {},
   "outputs": [],
   "source": [
    "# data_test=data.copy()"
   ]
  },
  {
   "cell_type": "code",
   "execution_count": 5,
   "id": "8a954e63",
   "metadata": {},
   "outputs": [
    {
     "data": {
      "text/html": [
       "<div>\n",
       "<style scoped>\n",
       "    .dataframe tbody tr th:only-of-type {\n",
       "        vertical-align: middle;\n",
       "    }\n",
       "\n",
       "    .dataframe tbody tr th {\n",
       "        vertical-align: top;\n",
       "    }\n",
       "\n",
       "    .dataframe thead th {\n",
       "        text-align: right;\n",
       "    }\n",
       "</style>\n",
       "<table border=\"1\" class=\"dataframe\">\n",
       "  <thead>\n",
       "    <tr style=\"text-align: right;\">\n",
       "      <th></th>\n",
       "      <th>ts</th>\n",
       "      <th>uid</th>\n",
       "      <th>id.orig_h</th>\n",
       "      <th>id.orig_p</th>\n",
       "      <th>id.resp_h</th>\n",
       "      <th>id.resp_p</th>\n",
       "      <th>proto</th>\n",
       "      <th>service</th>\n",
       "      <th>duration</th>\n",
       "      <th>orig_bytes</th>\n",
       "      <th>...</th>\n",
       "      <th>local_resp</th>\n",
       "      <th>missed_bytes</th>\n",
       "      <th>history</th>\n",
       "      <th>orig_pkts</th>\n",
       "      <th>orig_ip_bytes</th>\n",
       "      <th>resp_pkts</th>\n",
       "      <th>resp_ip_bytes</th>\n",
       "      <th>tunnel_parents</th>\n",
       "      <th>label</th>\n",
       "      <th>detailed-label</th>\n",
       "    </tr>\n",
       "  </thead>\n",
       "  <tbody>\n",
       "    <tr>\n",
       "      <th>0</th>\n",
       "      <td>1.545403e+09</td>\n",
       "      <td>CdNmOg26ZIaBRzPvWj</td>\n",
       "      <td>192.168.1.196</td>\n",
       "      <td>59932.0</td>\n",
       "      <td>104.248.160.24</td>\n",
       "      <td>80.0</td>\n",
       "      <td>tcp</td>\n",
       "      <td>-</td>\n",
       "      <td>3.097754</td>\n",
       "      <td>0</td>\n",
       "      <td>...</td>\n",
       "      <td>-</td>\n",
       "      <td>0.0</td>\n",
       "      <td>S</td>\n",
       "      <td>3.0</td>\n",
       "      <td>180.0</td>\n",
       "      <td>0.0</td>\n",
       "      <td>0.0</td>\n",
       "      <td>-</td>\n",
       "      <td>Malicious   C&amp;C</td>\n",
       "      <td>NaN</td>\n",
       "    </tr>\n",
       "    <tr>\n",
       "      <th>1</th>\n",
       "      <td>1.545403e+09</td>\n",
       "      <td>CgzGV333k9WCximeu8</td>\n",
       "      <td>192.168.1.196</td>\n",
       "      <td>59932.0</td>\n",
       "      <td>104.248.160.24</td>\n",
       "      <td>80.0</td>\n",
       "      <td>tcp</td>\n",
       "      <td>-</td>\n",
       "      <td>-</td>\n",
       "      <td>-</td>\n",
       "      <td>...</td>\n",
       "      <td>-</td>\n",
       "      <td>0.0</td>\n",
       "      <td>S</td>\n",
       "      <td>1.0</td>\n",
       "      <td>60.0</td>\n",
       "      <td>0.0</td>\n",
       "      <td>0.0</td>\n",
       "      <td>-</td>\n",
       "      <td>Malicious   C&amp;C</td>\n",
       "      <td>NaN</td>\n",
       "    </tr>\n",
       "    <tr>\n",
       "      <th>2</th>\n",
       "      <td>1.545403e+09</td>\n",
       "      <td>CLm5Pd3ZnqmYVjrZ44</td>\n",
       "      <td>192.168.1.196</td>\n",
       "      <td>59932.0</td>\n",
       "      <td>104.248.160.24</td>\n",
       "      <td>80.0</td>\n",
       "      <td>tcp</td>\n",
       "      <td>-</td>\n",
       "      <td>-</td>\n",
       "      <td>-</td>\n",
       "      <td>...</td>\n",
       "      <td>-</td>\n",
       "      <td>0.0</td>\n",
       "      <td>S</td>\n",
       "      <td>1.0</td>\n",
       "      <td>60.0</td>\n",
       "      <td>0.0</td>\n",
       "      <td>0.0</td>\n",
       "      <td>-</td>\n",
       "      <td>Malicious   C&amp;C</td>\n",
       "      <td>NaN</td>\n",
       "    </tr>\n",
       "    <tr>\n",
       "      <th>3</th>\n",
       "      <td>1.545403e+09</td>\n",
       "      <td>CDn2pd1rDD1lCMXAia</td>\n",
       "      <td>192.168.1.196</td>\n",
       "      <td>35883.0</td>\n",
       "      <td>192.168.1.1</td>\n",
       "      <td>53.0</td>\n",
       "      <td>udp</td>\n",
       "      <td>dns</td>\n",
       "      <td>5.005148</td>\n",
       "      <td>78</td>\n",
       "      <td>...</td>\n",
       "      <td>-</td>\n",
       "      <td>0.0</td>\n",
       "      <td>D</td>\n",
       "      <td>2.0</td>\n",
       "      <td>134.0</td>\n",
       "      <td>0.0</td>\n",
       "      <td>0.0</td>\n",
       "      <td>-</td>\n",
       "      <td>Benign</td>\n",
       "      <td>-</td>\n",
       "    </tr>\n",
       "    <tr>\n",
       "      <th>4</th>\n",
       "      <td>1.545403e+09</td>\n",
       "      <td>C1NKkV3tB4rImzbpDj</td>\n",
       "      <td>192.168.1.196</td>\n",
       "      <td>43531.0</td>\n",
       "      <td>192.168.1.1</td>\n",
       "      <td>53.0</td>\n",
       "      <td>udp</td>\n",
       "      <td>dns</td>\n",
       "      <td>5.005145</td>\n",
       "      <td>78</td>\n",
       "      <td>...</td>\n",
       "      <td>-</td>\n",
       "      <td>0.0</td>\n",
       "      <td>D</td>\n",
       "      <td>2.0</td>\n",
       "      <td>134.0</td>\n",
       "      <td>0.0</td>\n",
       "      <td>0.0</td>\n",
       "      <td>-</td>\n",
       "      <td>Benign</td>\n",
       "      <td>-</td>\n",
       "    </tr>\n",
       "  </tbody>\n",
       "</table>\n",
       "<p>5 rows × 23 columns</p>\n",
       "</div>"
      ],
      "text/plain": [
       "             ts                 uid      id.orig_h  id.orig_p       id.resp_h  \\\n",
       "0  1.545403e+09  CdNmOg26ZIaBRzPvWj  192.168.1.196    59932.0  104.248.160.24   \n",
       "1  1.545403e+09  CgzGV333k9WCximeu8  192.168.1.196    59932.0  104.248.160.24   \n",
       "2  1.545403e+09  CLm5Pd3ZnqmYVjrZ44  192.168.1.196    59932.0  104.248.160.24   \n",
       "3  1.545403e+09  CDn2pd1rDD1lCMXAia  192.168.1.196    35883.0     192.168.1.1   \n",
       "4  1.545403e+09  C1NKkV3tB4rImzbpDj  192.168.1.196    43531.0     192.168.1.1   \n",
       "\n",
       "   id.resp_p proto service  duration orig_bytes  ... local_resp missed_bytes  \\\n",
       "0       80.0   tcp       -  3.097754          0  ...          -          0.0   \n",
       "1       80.0   tcp       -         -          -  ...          -          0.0   \n",
       "2       80.0   tcp       -         -          -  ...          -          0.0   \n",
       "3       53.0   udp     dns  5.005148         78  ...          -          0.0   \n",
       "4       53.0   udp     dns  5.005145         78  ...          -          0.0   \n",
       "\n",
       "  history orig_pkts  orig_ip_bytes resp_pkts  resp_ip_bytes  tunnel_parents  \\\n",
       "0       S       3.0          180.0       0.0            0.0               -   \n",
       "1       S       1.0           60.0       0.0            0.0               -   \n",
       "2       S       1.0           60.0       0.0            0.0               -   \n",
       "3       D       2.0          134.0       0.0            0.0               -   \n",
       "4       D       2.0          134.0       0.0            0.0               -   \n",
       "\n",
       "             label  detailed-label  \n",
       "0  Malicious   C&C             NaN  \n",
       "1  Malicious   C&C             NaN  \n",
       "2  Malicious   C&C             NaN  \n",
       "3           Benign               -  \n",
       "4           Benign               -  \n",
       "\n",
       "[5 rows x 23 columns]"
      ]
     },
     "execution_count": 5,
     "metadata": {},
     "output_type": "execute_result"
    }
   ],
   "source": [
    "# data.head()\n",
    "data_test.head()"
   ]
  },
  {
   "cell_type": "code",
   "execution_count": 6,
   "id": "52024950",
   "metadata": {},
   "outputs": [
    {
     "name": "stdout",
     "output_type": "stream",
     "text": [
      "<class 'pandas.core.frame.DataFrame'>\n",
      "RangeIndex: 25000363 entries, 0 to 25000362\n",
      "Data columns (total 23 columns):\n",
      " #   Column          Dtype  \n",
      "---  ------          -----  \n",
      " 0   ts              float64\n",
      " 1   uid             object \n",
      " 2   id.orig_h       object \n",
      " 3   id.orig_p       float64\n",
      " 4   id.resp_h       object \n",
      " 5   id.resp_p       float64\n",
      " 6   proto           object \n",
      " 7   service         object \n",
      " 8   duration        object \n",
      " 9   orig_bytes      object \n",
      " 10  resp_bytes      object \n",
      " 11  conn_state      object \n",
      " 12  local_orig      object \n",
      " 13  local_resp      object \n",
      " 14  missed_bytes    float64\n",
      " 15  history         object \n",
      " 16  orig_pkts       float64\n",
      " 17  orig_ip_bytes   float64\n",
      " 18  resp_pkts       float64\n",
      " 19  resp_ip_bytes   float64\n",
      " 20  tunnel_parents  object \n",
      " 21  label           object \n",
      " 22  detailed-label  object \n",
      "dtypes: float64(8), object(15)\n",
      "memory usage: 4.3+ GB\n"
     ]
    }
   ],
   "source": [
    "# data.info()\n",
    "data_test.info()"
   ]
  },
  {
   "cell_type": "code",
   "execution_count": 7,
   "id": "d9ed3977",
   "metadata": {},
   "outputs": [
    {
     "name": "stdout",
     "output_type": "stream",
     "text": [
      "detailed-label    36.695223\n",
      "local_orig         0.000000\n",
      "label              0.000000\n",
      "tunnel_parents     0.000000\n",
      "resp_ip_bytes      0.000000\n",
      "resp_pkts          0.000000\n",
      "orig_ip_bytes      0.000000\n",
      "orig_pkts          0.000000\n",
      "history            0.000000\n",
      "missed_bytes       0.000000\n",
      "local_resp         0.000000\n",
      "ts                 0.000000\n",
      "uid                0.000000\n",
      "resp_bytes         0.000000\n",
      "orig_bytes         0.000000\n",
      "duration           0.000000\n",
      "service            0.000000\n",
      "proto              0.000000\n",
      "id.resp_p          0.000000\n",
      "id.resp_h          0.000000\n",
      "id.orig_p          0.000000\n",
      "id.orig_h          0.000000\n",
      "conn_state         0.000000\n",
      "dtype: float64\n"
     ]
    }
   ],
   "source": [
    "print((data_test.isnull().sum()/len(data_test)*100).sort_values(ascending=False))"
   ]
  },
  {
   "cell_type": "code",
   "execution_count": 8,
   "id": "e848af9d",
   "metadata": {},
   "outputs": [
    {
     "name": "stderr",
     "output_type": "stream",
     "text": [
      "/var/folders/wx/l8wg57xn4zg_6jvfv7d2rly40000gn/T/ipykernel_85469/1346826329.py:2: FutureWarning: Downcasting behavior in `replace` is deprecated and will be removed in a future version. To retain the old behavior, explicitly call `result.infer_objects(copy=False)`. To opt-in to the future behavior, set `pd.set_option('future.no_silent_downcasting', True)`\n",
      "  data_test.replace('-', np.nan, inplace=True)\n"
     ]
    }
   ],
   "source": [
    "# data.replace('-', np.nan, inplace=True)\n",
    "data_test.replace('-', np.nan, inplace=True)"
   ]
  },
  {
   "cell_type": "code",
   "execution_count": 9,
   "id": "71710ab8",
   "metadata": {},
   "outputs": [
    {
     "name": "stdout",
     "output_type": "stream",
     "text": [
      "tunnel_parents    100.000000\n",
      "local_orig        100.000000\n",
      "local_resp        100.000000\n",
      "service            99.928057\n",
      "detailed-label     71.805777\n",
      "duration           61.062341\n",
      "orig_bytes         61.062341\n",
      "resp_bytes         61.062341\n",
      "history             0.100463\n",
      "label               0.000000\n",
      "resp_ip_bytes       0.000000\n",
      "resp_pkts           0.000000\n",
      "orig_ip_bytes       0.000000\n",
      "orig_pkts           0.000000\n",
      "ts                  0.000000\n",
      "missed_bytes        0.000000\n",
      "uid                 0.000000\n",
      "proto               0.000000\n",
      "id.resp_p           0.000000\n",
      "id.resp_h           0.000000\n",
      "id.orig_p           0.000000\n",
      "id.orig_h           0.000000\n",
      "conn_state          0.000000\n",
      "dtype: float64\n"
     ]
    }
   ],
   "source": [
    "print((data_test.isnull().sum()/len(data_test)*100).sort_values(ascending=False))"
   ]
  },
  {
   "cell_type": "code",
   "execution_count": 10,
   "id": "3e71d3aa",
   "metadata": {},
   "outputs": [
    {
     "data": {
      "text/plain": [
       "label\n",
       "Benign                                   8777766\n",
       "Malicious                                7046785\n",
       "Malicious   DDoS                         5778153\n",
       "Malicious   PartOfAHorizontalPortScan    3386241\n",
       "Malicious   C&C                             8660\n",
       "Malicious   Attack                          2755\n",
       "Malicious   FileDownload                       3\n",
       "Name: count, dtype: int64"
      ]
     },
     "execution_count": 10,
     "metadata": {},
     "output_type": "execute_result"
    }
   ],
   "source": [
    "# data['label'].value_counts()\n",
    "data_test['label'].value_counts()"
   ]
  },
  {
   "cell_type": "code",
   "execution_count": 11,
   "id": "8c4bff09",
   "metadata": {},
   "outputs": [
    {
     "data": {
      "text/plain": [
       "detailed-label\n",
       "PartOfAHorizontalPortScan    7041695\n",
       "Attack                          5962\n",
       "HeartBeat                        940\n",
       "Torii                             30\n",
       "C&C                               16\n",
       "FileDownload                      15\n",
       "Name: count, dtype: int64"
      ]
     },
     "execution_count": 11,
     "metadata": {},
     "output_type": "execute_result"
    }
   ],
   "source": [
    "# data['detailed-label'].value_counts()\n",
    "data_test['detailed-label'].value_counts()"
   ]
  },
  {
   "cell_type": "code",
   "execution_count": 12,
   "id": "824b5a95",
   "metadata": {},
   "outputs": [
    {
     "data": {
      "text/plain": [
       "label\n",
       "Benign                                   8777766\n",
       "Malicious                                7046785\n",
       "Malicious   DDoS                         5778153\n",
       "Malicious   PartOfAHorizontalPortScan    3386241\n",
       "Malicious   C&C                             8660\n",
       "Malicious   Attack                          2755\n",
       "Malicious   FileDownload                       3\n",
       "Name: count, dtype: int64"
      ]
     },
     "execution_count": 12,
     "metadata": {},
     "output_type": "execute_result"
    }
   ],
   "source": [
    "data_test['label'].value_counts()"
   ]
  },
  {
   "cell_type": "code",
   "execution_count": 13,
   "id": "6da5529f",
   "metadata": {},
   "outputs": [],
   "source": [
    "# data['merged']= data['label'] + '-' + data['detailed-label']\n",
    "data_test['merged'] = data_test['label'] + ' - ' + data_test['detailed-label'].fillna('')"
   ]
  },
  {
   "cell_type": "code",
   "execution_count": 14,
   "id": "edbcee8e",
   "metadata": {},
   "outputs": [
    {
     "data": {
      "text/plain": [
       "merged\n",
       "Benign -                                       8777766\n",
       "Malicious - PartOfAHorizontalPortScan          7040807\n",
       "Malicious   DDoS -                             5778153\n",
       "Malicious   PartOfAHorizontalPortScan -        3386241\n",
       "Malicious   C&C -                                 6787\n",
       "Malicious - Attack                                5962\n",
       "Malicious   Attack -                              2755\n",
       "Malicious   C&C - HeartBeat                        940\n",
       "Malicious   C&C - PartOfAHorizontalPortScan        888\n",
       "Malicious   C&C - Torii                             30\n",
       "Malicious - C&C                                     16\n",
       "Malicious   C&C - FileDownload                      15\n",
       "Malicious   FileDownload -                           3\n",
       "Name: count, dtype: int64"
      ]
     },
     "execution_count": 14,
     "metadata": {},
     "output_type": "execute_result"
    }
   ],
   "source": [
    "# data['merged'].value_counts()\n",
    "data_test['merged'].value_counts()"
   ]
  },
  {
   "cell_type": "code",
   "execution_count": 15,
   "id": "625fe54a",
   "metadata": {},
   "outputs": [],
   "source": [
    "# Split the 'merged' column into 'label' and 'detailed-label' after 'Benign' or 'Malicious'\n",
    "# data[['label', 'detailed-label']] = data['merged'].str.extract(r'^(Malicious)\\s*[-]?\\s*(.*)$')\n",
    "data_test[['label', 'detailed-label']] = data_test['merged'].str.extract(r'^(Benign|Malicious)\\s*[-]?\\s*(.*)$')"
   ]
  },
  {
   "cell_type": "code",
   "execution_count": 16,
   "id": "ea1ec7e3",
   "metadata": {},
   "outputs": [
    {
     "data": {
      "text/plain": [
       "label\n",
       "Malicious    16222597\n",
       "Benign        8777766\n",
       "Name: count, dtype: int64"
      ]
     },
     "execution_count": 16,
     "metadata": {},
     "output_type": "execute_result"
    }
   ],
   "source": [
    "data_test['label'].value_counts()"
   ]
  },
  {
   "cell_type": "code",
   "execution_count": 17,
   "id": "dfa8c785",
   "metadata": {},
   "outputs": [
    {
     "name": "stdout",
     "output_type": "stream",
     "text": [
      "local_orig        100.000000\n",
      "tunnel_parents    100.000000\n",
      "local_resp        100.000000\n",
      "service            99.928057\n",
      "duration           61.062341\n",
      "orig_bytes         61.062341\n",
      "resp_bytes         61.062341\n",
      "history             0.100463\n",
      "detailed-label      0.000000\n",
      "label               0.000000\n",
      "resp_ip_bytes       0.000000\n",
      "resp_pkts           0.000000\n",
      "orig_ip_bytes       0.000000\n",
      "orig_pkts           0.000000\n",
      "ts                  0.000000\n",
      "missed_bytes        0.000000\n",
      "uid                 0.000000\n",
      "conn_state          0.000000\n",
      "proto               0.000000\n",
      "id.resp_p           0.000000\n",
      "id.resp_h           0.000000\n",
      "id.orig_p           0.000000\n",
      "id.orig_h           0.000000\n",
      "merged              0.000000\n",
      "dtype: float64\n"
     ]
    }
   ],
   "source": [
    "print((data_test.isnull().sum()/len(data_test)*100).sort_values(ascending=False))"
   ]
  },
  {
   "cell_type": "code",
   "execution_count": 18,
   "id": "47d50fc2",
   "metadata": {},
   "outputs": [
    {
     "name": "stderr",
     "output_type": "stream",
     "text": [
      "/var/folders/wx/l8wg57xn4zg_6jvfv7d2rly40000gn/T/ipykernel_85469/797731413.py:1: FutureWarning: A value is trying to be set on a copy of a DataFrame or Series through chained assignment using an inplace method.\n",
      "The behavior will change in pandas 3.0. This inplace method will never work because the intermediate object on which we are setting values always behaves as a copy.\n",
      "\n",
      "For example, when doing 'df[col].method(value, inplace=True)', try using 'df.method({col: value}, inplace=True)' or df[col] = df[col].method(value) instead, to perform the operation inplace on the original object.\n",
      "\n",
      "\n",
      "  data_test['detailed-label'].replace('', 'Benign', inplace=True)\n"
     ]
    }
   ],
   "source": [
    "data_test['detailed-label'].replace('', 'Benign', inplace=True)"
   ]
  },
  {
   "cell_type": "code",
   "execution_count": 19,
   "id": "c3b1d074",
   "metadata": {},
   "outputs": [],
   "source": [
    "data_test['detailed-label'] = data_test['detailed-label'].str.replace(r'[\\s\\-]+$', '', regex=True)"
   ]
  },
  {
   "cell_type": "code",
   "execution_count": 20,
   "id": "23dfae29",
   "metadata": {},
   "outputs": [
    {
     "data": {
      "text/plain": [
       "detailed-label\n",
       "PartOfAHorizontalPortScan          10427048\n",
       "Benign                              8777766\n",
       "DDoS                                5778153\n",
       "Attack                                 8717\n",
       "C&C                                    6803\n",
       "C&C - HeartBeat                         940\n",
       "C&C - PartOfAHorizontalPortScan         888\n",
       "C&C - Torii                              30\n",
       "C&C - FileDownload                       15\n",
       "FileDownload                              3\n",
       "Name: count, dtype: int64"
      ]
     },
     "execution_count": 20,
     "metadata": {},
     "output_type": "execute_result"
    }
   ],
   "source": [
    "data_test['detailed-label'].value_counts()"
   ]
  },
  {
   "cell_type": "code",
   "execution_count": 21,
   "id": "f4d92613",
   "metadata": {},
   "outputs": [
    {
     "data": {
      "text/plain": [
       "label\n",
       "Malicious    16222597\n",
       "Benign        8777766\n",
       "Name: count, dtype: int64"
      ]
     },
     "execution_count": 21,
     "metadata": {},
     "output_type": "execute_result"
    }
   ],
   "source": [
    "# data['label'].value_counts()\n",
    "data_test['label'].value_counts()"
   ]
  },
  {
   "cell_type": "code",
   "execution_count": 22,
   "id": "3875d386",
   "metadata": {},
   "outputs": [],
   "source": [
    "# data.drop('merged', axis=1, inplace=True)\n",
    "data_test.drop('merged', axis=1, inplace=True)"
   ]
  },
  {
   "cell_type": "code",
   "execution_count": 23,
   "id": "639d1e5a",
   "metadata": {},
   "outputs": [
    {
     "data": {
      "text/html": [
       "<div>\n",
       "<style scoped>\n",
       "    .dataframe tbody tr th:only-of-type {\n",
       "        vertical-align: middle;\n",
       "    }\n",
       "\n",
       "    .dataframe tbody tr th {\n",
       "        vertical-align: top;\n",
       "    }\n",
       "\n",
       "    .dataframe thead th {\n",
       "        text-align: right;\n",
       "    }\n",
       "</style>\n",
       "<table border=\"1\" class=\"dataframe\">\n",
       "  <thead>\n",
       "    <tr style=\"text-align: right;\">\n",
       "      <th></th>\n",
       "      <th>ts</th>\n",
       "      <th>uid</th>\n",
       "      <th>id.orig_h</th>\n",
       "      <th>id.orig_p</th>\n",
       "      <th>id.resp_h</th>\n",
       "      <th>id.resp_p</th>\n",
       "      <th>proto</th>\n",
       "      <th>service</th>\n",
       "      <th>duration</th>\n",
       "      <th>orig_bytes</th>\n",
       "      <th>...</th>\n",
       "      <th>local_resp</th>\n",
       "      <th>missed_bytes</th>\n",
       "      <th>history</th>\n",
       "      <th>orig_pkts</th>\n",
       "      <th>orig_ip_bytes</th>\n",
       "      <th>resp_pkts</th>\n",
       "      <th>resp_ip_bytes</th>\n",
       "      <th>tunnel_parents</th>\n",
       "      <th>label</th>\n",
       "      <th>detailed-label</th>\n",
       "    </tr>\n",
       "  </thead>\n",
       "  <tbody>\n",
       "    <tr>\n",
       "      <th>0</th>\n",
       "      <td>1.545403e+09</td>\n",
       "      <td>CdNmOg26ZIaBRzPvWj</td>\n",
       "      <td>192.168.1.196</td>\n",
       "      <td>59932.0</td>\n",
       "      <td>104.248.160.24</td>\n",
       "      <td>80.0</td>\n",
       "      <td>tcp</td>\n",
       "      <td>NaN</td>\n",
       "      <td>3.097754</td>\n",
       "      <td>0</td>\n",
       "      <td>...</td>\n",
       "      <td>NaN</td>\n",
       "      <td>0.0</td>\n",
       "      <td>S</td>\n",
       "      <td>3.0</td>\n",
       "      <td>180.0</td>\n",
       "      <td>0.0</td>\n",
       "      <td>0.0</td>\n",
       "      <td>NaN</td>\n",
       "      <td>Malicious</td>\n",
       "      <td>C&amp;C</td>\n",
       "    </tr>\n",
       "    <tr>\n",
       "      <th>1</th>\n",
       "      <td>1.545403e+09</td>\n",
       "      <td>CgzGV333k9WCximeu8</td>\n",
       "      <td>192.168.1.196</td>\n",
       "      <td>59932.0</td>\n",
       "      <td>104.248.160.24</td>\n",
       "      <td>80.0</td>\n",
       "      <td>tcp</td>\n",
       "      <td>NaN</td>\n",
       "      <td>NaN</td>\n",
       "      <td>NaN</td>\n",
       "      <td>...</td>\n",
       "      <td>NaN</td>\n",
       "      <td>0.0</td>\n",
       "      <td>S</td>\n",
       "      <td>1.0</td>\n",
       "      <td>60.0</td>\n",
       "      <td>0.0</td>\n",
       "      <td>0.0</td>\n",
       "      <td>NaN</td>\n",
       "      <td>Malicious</td>\n",
       "      <td>C&amp;C</td>\n",
       "    </tr>\n",
       "    <tr>\n",
       "      <th>2</th>\n",
       "      <td>1.545403e+09</td>\n",
       "      <td>CLm5Pd3ZnqmYVjrZ44</td>\n",
       "      <td>192.168.1.196</td>\n",
       "      <td>59932.0</td>\n",
       "      <td>104.248.160.24</td>\n",
       "      <td>80.0</td>\n",
       "      <td>tcp</td>\n",
       "      <td>NaN</td>\n",
       "      <td>NaN</td>\n",
       "      <td>NaN</td>\n",
       "      <td>...</td>\n",
       "      <td>NaN</td>\n",
       "      <td>0.0</td>\n",
       "      <td>S</td>\n",
       "      <td>1.0</td>\n",
       "      <td>60.0</td>\n",
       "      <td>0.0</td>\n",
       "      <td>0.0</td>\n",
       "      <td>NaN</td>\n",
       "      <td>Malicious</td>\n",
       "      <td>C&amp;C</td>\n",
       "    </tr>\n",
       "    <tr>\n",
       "      <th>3</th>\n",
       "      <td>1.545403e+09</td>\n",
       "      <td>CDn2pd1rDD1lCMXAia</td>\n",
       "      <td>192.168.1.196</td>\n",
       "      <td>35883.0</td>\n",
       "      <td>192.168.1.1</td>\n",
       "      <td>53.0</td>\n",
       "      <td>udp</td>\n",
       "      <td>dns</td>\n",
       "      <td>5.005148</td>\n",
       "      <td>78</td>\n",
       "      <td>...</td>\n",
       "      <td>NaN</td>\n",
       "      <td>0.0</td>\n",
       "      <td>D</td>\n",
       "      <td>2.0</td>\n",
       "      <td>134.0</td>\n",
       "      <td>0.0</td>\n",
       "      <td>0.0</td>\n",
       "      <td>NaN</td>\n",
       "      <td>Benign</td>\n",
       "      <td>Benign</td>\n",
       "    </tr>\n",
       "    <tr>\n",
       "      <th>4</th>\n",
       "      <td>1.545403e+09</td>\n",
       "      <td>C1NKkV3tB4rImzbpDj</td>\n",
       "      <td>192.168.1.196</td>\n",
       "      <td>43531.0</td>\n",
       "      <td>192.168.1.1</td>\n",
       "      <td>53.0</td>\n",
       "      <td>udp</td>\n",
       "      <td>dns</td>\n",
       "      <td>5.005145</td>\n",
       "      <td>78</td>\n",
       "      <td>...</td>\n",
       "      <td>NaN</td>\n",
       "      <td>0.0</td>\n",
       "      <td>D</td>\n",
       "      <td>2.0</td>\n",
       "      <td>134.0</td>\n",
       "      <td>0.0</td>\n",
       "      <td>0.0</td>\n",
       "      <td>NaN</td>\n",
       "      <td>Benign</td>\n",
       "      <td>Benign</td>\n",
       "    </tr>\n",
       "  </tbody>\n",
       "</table>\n",
       "<p>5 rows × 23 columns</p>\n",
       "</div>"
      ],
      "text/plain": [
       "             ts                 uid      id.orig_h  id.orig_p       id.resp_h  \\\n",
       "0  1.545403e+09  CdNmOg26ZIaBRzPvWj  192.168.1.196    59932.0  104.248.160.24   \n",
       "1  1.545403e+09  CgzGV333k9WCximeu8  192.168.1.196    59932.0  104.248.160.24   \n",
       "2  1.545403e+09  CLm5Pd3ZnqmYVjrZ44  192.168.1.196    59932.0  104.248.160.24   \n",
       "3  1.545403e+09  CDn2pd1rDD1lCMXAia  192.168.1.196    35883.0     192.168.1.1   \n",
       "4  1.545403e+09  C1NKkV3tB4rImzbpDj  192.168.1.196    43531.0     192.168.1.1   \n",
       "\n",
       "   id.resp_p proto service  duration orig_bytes  ... local_resp missed_bytes  \\\n",
       "0       80.0   tcp     NaN  3.097754          0  ...        NaN          0.0   \n",
       "1       80.0   tcp     NaN       NaN        NaN  ...        NaN          0.0   \n",
       "2       80.0   tcp     NaN       NaN        NaN  ...        NaN          0.0   \n",
       "3       53.0   udp     dns  5.005148         78  ...        NaN          0.0   \n",
       "4       53.0   udp     dns  5.005145         78  ...        NaN          0.0   \n",
       "\n",
       "   history  orig_pkts  orig_ip_bytes resp_pkts  resp_ip_bytes  tunnel_parents  \\\n",
       "0        S        3.0          180.0       0.0            0.0             NaN   \n",
       "1        S        1.0           60.0       0.0            0.0             NaN   \n",
       "2        S        1.0           60.0       0.0            0.0             NaN   \n",
       "3        D        2.0          134.0       0.0            0.0             NaN   \n",
       "4        D        2.0          134.0       0.0            0.0             NaN   \n",
       "\n",
       "       label  detailed-label  \n",
       "0  Malicious             C&C  \n",
       "1  Malicious             C&C  \n",
       "2  Malicious             C&C  \n",
       "3     Benign          Benign  \n",
       "4     Benign          Benign  \n",
       "\n",
       "[5 rows x 23 columns]"
      ]
     },
     "execution_count": 23,
     "metadata": {},
     "output_type": "execute_result"
    }
   ],
   "source": [
    "# data.head()\n",
    "data_test.head()"
   ]
  },
  {
   "cell_type": "code",
   "execution_count": 24,
   "id": "1d399a07",
   "metadata": {},
   "outputs": [],
   "source": [
    "# data.drop_duplicates(inplace=True)\n",
    "data_test.drop_duplicates(inplace=True)"
   ]
  },
  {
   "cell_type": "code",
   "execution_count": 25,
   "id": "ca0180e0",
   "metadata": {},
   "outputs": [
    {
     "name": "stdout",
     "output_type": "stream",
     "text": [
      "<class 'pandas.core.frame.DataFrame'>\n",
      "RangeIndex: 25000363 entries, 0 to 25000362\n",
      "Data columns (total 23 columns):\n",
      " #   Column          Dtype  \n",
      "---  ------          -----  \n",
      " 0   ts              float64\n",
      " 1   uid             object \n",
      " 2   id.orig_h       object \n",
      " 3   id.orig_p       float64\n",
      " 4   id.resp_h       object \n",
      " 5   id.resp_p       float64\n",
      " 6   proto           object \n",
      " 7   service         object \n",
      " 8   duration        object \n",
      " 9   orig_bytes      object \n",
      " 10  resp_bytes      object \n",
      " 11  conn_state      object \n",
      " 12  local_orig      float64\n",
      " 13  local_resp      float64\n",
      " 14  missed_bytes    float64\n",
      " 15  history         object \n",
      " 16  orig_pkts       float64\n",
      " 17  orig_ip_bytes   float64\n",
      " 18  resp_pkts       float64\n",
      " 19  resp_ip_bytes   float64\n",
      " 20  tunnel_parents  float64\n",
      " 21  label           object \n",
      " 22  detailed-label  object \n",
      "dtypes: float64(11), object(12)\n",
      "memory usage: 4.3+ GB\n"
     ]
    }
   ],
   "source": [
    "data_test.info()"
   ]
  },
  {
   "cell_type": "code",
   "execution_count": 26,
   "id": "8d923b87",
   "metadata": {},
   "outputs": [],
   "source": [
    "cols = ['orig_bytes', 'resp_bytes', 'resp_ip_bytes', 'orig_ip_bytes', 'resp_pkts', 'orig_pkts']\n",
    "\n",
    "for col in cols:\n",
    "    data_test[col] = pd.to_numeric(data_test[col], errors='coerce')\n",
    "    data_test.loc[data_test[col].notna(), col] = data_test.loc[data_test[col].notna(), col].astype(int)\n"
   ]
  },
  {
   "cell_type": "code",
   "execution_count": 27,
   "id": "eb65546b",
   "metadata": {},
   "outputs": [
    {
     "name": "stdout",
     "output_type": "stream",
     "text": [
      "ts: 0.00% zeros\n",
      "uid: 0.00% zeros\n",
      "id.orig_h: 0.00% zeros\n",
      "id.orig_p: 0.00% zeros\n",
      "id.resp_h: 0.00% zeros\n",
      "id.resp_p: 0.03% zeros\n",
      "proto: 0.00% zeros\n",
      "service: 0.00% zeros\n",
      "duration: 0.00% zeros\n",
      "orig_bytes: 38.47% zeros\n",
      "resp_bytes: 38.80% zeros\n",
      "conn_state: 0.00% zeros\n",
      "local_orig: 0.00% zeros\n",
      "local_resp: 0.00% zeros\n",
      "missed_bytes: 100.00% zeros\n",
      "history: 0.00% zeros\n",
      "orig_pkts: 14.38% zeros\n",
      "orig_ip_bytes: 14.38% zeros\n",
      "resp_pkts: 99.79% zeros\n",
      "resp_ip_bytes: 99.79% zeros\n",
      "tunnel_parents: 0.00% zeros\n",
      "label: 0.00% zeros\n",
      "detailed-label: 0.00% zeros\n"
     ]
    }
   ],
   "source": [
    "columns = list(data_test.columns)\n",
    "zero_ratios = {col: (data_test[col] == 0).mean() for col in columns}\n",
    "\n",
    "for col, ratio in zero_ratios.items():\n",
    "    print(f\"{col}: {ratio:.2%} zeros\")"
   ]
  },
  {
   "cell_type": "code",
   "execution_count": 28,
   "id": "f4b03c65",
   "metadata": {},
   "outputs": [],
   "source": [
    "drop_cols = ['resp_pkts','resp_ip_bytes','uid', 'tunnel_parents', 'local_resp', 'local_orig', 'missed_bytes', 'ts', 'id.orig_h', 'id.resp_h', 'id.resp_p', 'id.orig_p', 'label', 'service']\n",
    "data_test.drop(columns=drop_cols, inplace=True, errors='ignore')\n",
    "\n",
    "data_test.dropna(subset=[ 'duration', 'orig_bytes', 'resp_bytes'], inplace=True)"
   ]
  },
  {
   "cell_type": "code",
   "execution_count": 29,
   "id": "fc6e7032",
   "metadata": {},
   "outputs": [
    {
     "name": "stdout",
     "output_type": "stream",
     "text": [
      "<class 'pandas.core.frame.DataFrame'>\n",
      "Index: 9734556 entries, 0 to 25000361\n",
      "Data columns (total 9 columns):\n",
      " #   Column          Dtype  \n",
      "---  ------          -----  \n",
      " 0   proto           object \n",
      " 1   duration        object \n",
      " 2   orig_bytes      float64\n",
      " 3   resp_bytes      float64\n",
      " 4   conn_state      object \n",
      " 5   history         object \n",
      " 6   orig_pkts       float64\n",
      " 7   orig_ip_bytes   float64\n",
      " 8   detailed-label  object \n",
      "dtypes: float64(4), object(5)\n",
      "memory usage: 742.7+ MB\n"
     ]
    }
   ],
   "source": [
    "data_test.info()"
   ]
  },
  {
   "cell_type": "code",
   "execution_count": 30,
   "id": "b928a0f8",
   "metadata": {},
   "outputs": [
    {
     "name": "stdout",
     "output_type": "stream",
     "text": [
      "proto: 0.00% zeros\n",
      "duration: 0.00% zeros\n",
      "orig_bytes: 98.79% zeros\n",
      "resp_bytes: 99.65% zeros\n",
      "conn_state: 0.00% zeros\n",
      "history: 0.00% zeros\n",
      "orig_pkts: 0.00% zeros\n",
      "orig_ip_bytes: 0.00% zeros\n",
      "detailed-label: 0.00% zeros\n"
     ]
    }
   ],
   "source": [
    "columns = list(data_test.columns)\n",
    "zero_ratios = {col: (data_test[col] == 0).mean() for col in columns}\n",
    "\n",
    "for col, ratio in zero_ratios.items():\n",
    "    print(f\"{col}: {ratio:.2%} zeros\")"
   ]
  },
  {
   "cell_type": "code",
   "execution_count": 31,
   "id": "87a39308",
   "metadata": {},
   "outputs": [],
   "source": [
    "data_test.drop(columns=['orig_bytes', 'resp_bytes'], inplace=True, errors='ignore')"
   ]
  },
  {
   "cell_type": "code",
   "execution_count": 32,
   "id": "7b83445d",
   "metadata": {},
   "outputs": [
    {
     "name": "stdout",
     "output_type": "stream",
     "text": [
      "proto: 0.00% zeros\n",
      "duration: 0.00% zeros\n",
      "conn_state: 0.00% zeros\n",
      "history: 0.00% zeros\n",
      "orig_pkts: 0.00% zeros\n",
      "orig_ip_bytes: 0.00% zeros\n",
      "detailed-label: 0.00% zeros\n"
     ]
    }
   ],
   "source": [
    "columns = list(data_test.columns)\n",
    "zero_ratios = {col: (data_test[col] == 0).mean() for col in columns}\n",
    "\n",
    "for col, ratio in zero_ratios.items():\n",
    "    print(f\"{col}: {ratio:.2%} zeros\")"
   ]
  },
  {
   "cell_type": "code",
   "execution_count": 33,
   "id": "8573e307",
   "metadata": {},
   "outputs": [
    {
     "data": {
      "text/plain": [
       "8005029"
      ]
     },
     "execution_count": 33,
     "metadata": {},
     "output_type": "execute_result"
    }
   ],
   "source": [
    "data_test.duplicated().sum()"
   ]
  },
  {
   "cell_type": "code",
   "execution_count": 34,
   "id": "ff533a87",
   "metadata": {},
   "outputs": [],
   "source": [
    "data_test.drop_duplicates(inplace=True)"
   ]
  },
  {
   "cell_type": "code",
   "execution_count": 35,
   "id": "7d40b888",
   "metadata": {},
   "outputs": [
    {
     "name": "stdout",
     "output_type": "stream",
     "text": [
      "<class 'pandas.core.frame.DataFrame'>\n",
      "Index: 1729527 entries, 0 to 25000361\n",
      "Data columns (total 7 columns):\n",
      " #   Column          Dtype  \n",
      "---  ------          -----  \n",
      " 0   proto           object \n",
      " 1   duration        object \n",
      " 2   conn_state      object \n",
      " 3   history         object \n",
      " 4   orig_pkts       float64\n",
      " 5   orig_ip_bytes   float64\n",
      " 6   detailed-label  object \n",
      "dtypes: float64(2), object(5)\n",
      "memory usage: 105.6+ MB\n"
     ]
    }
   ],
   "source": [
    "data_test.info()"
   ]
  },
  {
   "cell_type": "code",
   "execution_count": 36,
   "id": "8358ea59",
   "metadata": {},
   "outputs": [
    {
     "name": "stdout",
     "output_type": "stream",
     "text": [
      "Number of empty or '0' values in 'history' column: 1522\n"
     ]
    }
   ],
   "source": [
    "# empty_history_count = (data['history'].isna() | (data['history'] == '-') | (data['history'] == '0')).sum()\n",
    "empty_history_count = (data_test['history'].isna() | (data_test['history'] == '-') | (data_test['history'] == '0')).sum()\n",
    "print(f\"Number of empty or '0' values in 'history' column: {empty_history_count}\")"
   ]
  },
  {
   "cell_type": "code",
   "execution_count": 37,
   "id": "084043af",
   "metadata": {},
   "outputs": [
    {
     "data": {
      "text/plain": [
       "1522"
      ]
     },
     "execution_count": 37,
     "metadata": {},
     "output_type": "execute_result"
    }
   ],
   "source": [
    "data_test['history'].isna().sum()"
   ]
  },
  {
   "cell_type": "code",
   "execution_count": 38,
   "id": "1695f184",
   "metadata": {},
   "outputs": [],
   "source": [
    "data_test.dropna(subset=['history'], inplace=True)"
   ]
  },
  {
   "cell_type": "code",
   "execution_count": 39,
   "id": "3f366e86",
   "metadata": {},
   "outputs": [
    {
     "data": {
      "text/plain": [
       "0"
      ]
     },
     "execution_count": 39,
     "metadata": {},
     "output_type": "execute_result"
    }
   ],
   "source": [
    "data_test['history'].isna().sum()"
   ]
  },
  {
   "cell_type": "code",
   "execution_count": 40,
   "id": "fab10fef",
   "metadata": {},
   "outputs": [
    {
     "data": {
      "text/plain": [
       "array(['S', 'D', 'Dd', 'DdAaFf', 'ShADadttfF', 'ShADadtfF', 'Sr',\n",
       "       'ShAdfFa', 'ShAdDaR', 'ShAr', 'ShAdDaTR', 'ShAfF', 'ShAF',\n",
       "       'ShAdDafr', 'ShAaw', 'ShAfFa', 'ShAdDaTRr', 'ShAdDaTFf', 'ShAdfDF',\n",
       "       'ShAdDafF', 'ShwA', 'ShAdDaTfF', 'ShAdfr', 'ShAdDaTFR', 'Fa',\n",
       "       'ShAdDar', 'ShwAr', 'ShAdDaRr', 'SaR', 'ShAdfDr', 'ShAdDaFf',\n",
       "       'ShAdDaTfRr', 'I', 'DTT', 'DT', '^dtt', 'ShAdr', 'ShAdDaTRft',\n",
       "       'ShAdDafR', 'DrF', 'DFr', 'ShAdfF', 'ShAdtfFa', 'SI', 'ShADdfFa',\n",
       "       'ShADadFf', 'ShAdaDR', 'ShADdfF', 'ShADdattFfR', 'ShADdf', 'F',\n",
       "       'ShAfdtF', 'ShADdFaf', 'ShADdFf', 'ShADdtatFfR', 'ShAdDaFRR', 'Dr',\n",
       "       'ShAdDaRRR', 'ShAdDaTRf', 'HaDdAr', 'ShADad', 'ShADadfrr', 'DdA',\n",
       "       'ShAdFaf', 'ShAadDr', 'ShAdDaFr', 'ShAdDaFfR', 'ShAdDaFRf',\n",
       "       'ShADFr', 'ShADF', 'ShADFfR', 'ShADFa', 'ShR', '^aA', 'ShADFar',\n",
       "       'ShAdDaFRRfR', 'ShAdDaFRRRf', 'ShADFaR', 'ShArR', 'ShADadFfR',\n",
       "       'ShAdDaF', 'ShAa', 'ShAdDaFT', 'ShAdDFf', 'ShAdDatFf', 'ShAdDaFTf',\n",
       "       'ShAdDaFR', 'ShAdDaFRfRR', 'ShAdDaFRfR', 'ShAdDatR', 'ShADFfa',\n",
       "       'ShAdDaFfr', 'ShADaR', 'ShAafF', '^d', 'ShADa', 'ShAdDFaf',\n",
       "       'ShAdDaFfRR', 'ShAdDtaFf', 'ShAdDaFRRf', 'ShAadDFf', 'ShAadDFRf',\n",
       "       'ShAdDaTFRf', 'ShAadDFR', 'SahAdDFRf', 'SahAdDFf', 'DFafA',\n",
       "       'SahAdDtFf', 'SahAdDF', 'ShADFadfR', 'ShAdDaFrR', 'ShAdDaFRr',\n",
       "       'DAd', 'SAD', 'ShADaFr', 'ShADadtFf', 'ShA', 'ShADr', 'ShAdDfFa',\n",
       "       'ShAFr', 'ShADadfF', 'ShADar', 'HaDdAFf', 'ShAdDaftF', '^hR',\n",
       "       'ShADdtaFf', 'ShADaF', 'ShADadtRf', 'ShADadftFR', 'ShAdDtaR',\n",
       "       'ShAdDtafF', 'FfA', 'ShADrfR', 'ShAdaFr', 'ShADadfR', 'ShADafr',\n",
       "       'ShADarfF', 'ShAdDaTF', 'ShADadRf', 'ShADFadfRR', 'ShADafF',\n",
       "       'ShADadR', 'ShAdtDaFrR', 'ShAdDatFr', 'ShAdtDaFr', 'ShAdDatFrR',\n",
       "       'ShAdDatfF', 'ShAdDfFr', 'ShAdDafFr', 'ShADdafR', 'ShAFf', 'ShAFa',\n",
       "       'ShAdF', 'ShAdDafrR', 'ShAdDafFrR', 'ShADfdtR', 'ShAdDarfR',\n",
       "       'SahAdDrfR', 'Fr', 'ShAdDatrfR', 'ShAdDr', 'HaDdR', 'ShAdDTafF',\n",
       "       'ShAdDaTFfR', 'ShAFfR', 'ShAdDafrFr', 'ShADfFr', 'ShADfrFr',\n",
       "       'ShrA', 'ShADafdtF', 'ShAdDtaFr', 'ShAdDFar', 'ShAdDarr',\n",
       "       'HaDdAfF', 'HaFfA', 'R', '^r', 'ShAdDafFR', 'Ar', 'ShADdfR',\n",
       "       'FaAr', 'ShAFafR', 'HaDdAFTf', 'ShAdDaftFR', 'ShADfaF', '^hADafF',\n",
       "       'ShADfFa', 'ShAdDFfR', 'ShAfdtDFr', 'ShAdfDFr', 'HaR', '^aR',\n",
       "       'ShADfFrr', 'ShAadDfF', 'ShADfdtFaR', 'FaR', 'ShAFdRfR',\n",
       "       'ShAdDafFrr', 'Ffa', 'ShAdtDafF', 'ShAdDtafFr', 'HaADdFf',\n",
       "       'HaDdTAFf', 'HafFr', 'ShADfR', '^hADadfR', '^hA', 'ShAFdfRt',\n",
       "       '^hADFr', 'ShADfrF', 'ShADfF', '^hADr', '^dDA', 'ShADCaGdfF',\n",
       "       'ShADaCGcgdF', 'ShADaCGdt', 'ShADadttcfF', 'ShADadtcfF',\n",
       "       'ShADadtctfF', 'DdAtaFf', 'ShAdDaf', 'ShADacdtfF', 'ShADadtctfFR',\n",
       "       'ShAdDaft', 'ShAfdtDr', 'ShAdDatf', 'ShAdDatfr', 'ShDadAf',\n",
       "       'ShAdD', 'ShADadf', 'ShAdDfr', 'ShAD', 'ShAdDa', 'ShAdDaT', 'D^d',\n",
       "       'ShADaCGdtfF', 'ShADaCGr', 'ShADCaGcgd', 'ShAfr', 'ShAdFaRf',\n",
       "       'ShAfFr', 'ShAaww', 'ShAdDaTfr', 'ShAfdtFa', 'ShAdDaRR', 'ShArr',\n",
       "       'ShAdDR', 'ShAdDatRRR', 'ShADadfr', 'ShAdDaTTRf', 'ShAdDaTfR',\n",
       "       'ShAar', 'ShADadttFf', 'ShADdaf', 'Aa', 'DaFfA', 'DdAa'],\n",
       "      dtype=object)"
      ]
     },
     "execution_count": 40,
     "metadata": {},
     "output_type": "execute_result"
    }
   ],
   "source": [
    "data_test['history'].unique()"
   ]
  },
  {
   "cell_type": "code",
   "execution_count": 41,
   "id": "1a92a21f",
   "metadata": {},
   "outputs": [],
   "source": [
    "def add_history_bucket(df, col='history', drop_original=True):\n",
    "    PURE_MALICIOUS = {'I', 'DTT'}\n",
    "    SUSPICIOUS_COMBOS = {\n",
    "        'ShAdDaFf', 'ShAdDafF', 'ShADadfF', 'ShADafF',\n",
    "        'ShADar', 'ShAdDaFr', 'ShAdDfFr', 'ShAdDaft',\n",
    "        'ShADr', 'ShADdfFa'\n",
    "    }\n",
    "    PURE_BENIGN = {'D', 'Dd', 'R'}\n",
    "    def bucket_history(val):\n",
    "        if val == 'S':\n",
    "            return 'majority_S'\n",
    "        elif val in PURE_MALICIOUS:\n",
    "            return 'pure_malicious'\n",
    "        elif val in SUSPICIOUS_COMBOS:\n",
    "            return 'known_suspicious_combos'\n",
    "        elif val in PURE_BENIGN:\n",
    "            return 'pure_benign'\n",
    "        else:\n",
    "            return 'rare_mixed'\n",
    "    df[f'{col}_bucket'] = df[col].apply(bucket_history)\n",
    "    if drop_original:\n",
    "        df.drop(columns=[col], inplace=True)\n",
    "    return df\n"
   ]
  },
  {
   "cell_type": "code",
   "execution_count": 42,
   "id": "9bf8f239",
   "metadata": {},
   "outputs": [
    {
     "data": {
      "text/html": [
       "<div>\n",
       "<style scoped>\n",
       "    .dataframe tbody tr th:only-of-type {\n",
       "        vertical-align: middle;\n",
       "    }\n",
       "\n",
       "    .dataframe tbody tr th {\n",
       "        vertical-align: top;\n",
       "    }\n",
       "\n",
       "    .dataframe thead th {\n",
       "        text-align: right;\n",
       "    }\n",
       "</style>\n",
       "<table border=\"1\" class=\"dataframe\">\n",
       "  <thead>\n",
       "    <tr style=\"text-align: right;\">\n",
       "      <th></th>\n",
       "      <th>proto</th>\n",
       "      <th>duration</th>\n",
       "      <th>conn_state</th>\n",
       "      <th>orig_pkts</th>\n",
       "      <th>orig_ip_bytes</th>\n",
       "      <th>detailed-label</th>\n",
       "      <th>history_bucket</th>\n",
       "    </tr>\n",
       "  </thead>\n",
       "  <tbody>\n",
       "    <tr>\n",
       "      <th>0</th>\n",
       "      <td>tcp</td>\n",
       "      <td>3.097754</td>\n",
       "      <td>S0</td>\n",
       "      <td>3.0</td>\n",
       "      <td>180.0</td>\n",
       "      <td>C&amp;C</td>\n",
       "      <td>majority_S</td>\n",
       "    </tr>\n",
       "    <tr>\n",
       "      <th>3</th>\n",
       "      <td>udp</td>\n",
       "      <td>5.005148</td>\n",
       "      <td>S0</td>\n",
       "      <td>2.0</td>\n",
       "      <td>134.0</td>\n",
       "      <td>Benign</td>\n",
       "      <td>pure_benign</td>\n",
       "    </tr>\n",
       "    <tr>\n",
       "      <th>4</th>\n",
       "      <td>udp</td>\n",
       "      <td>5.005145</td>\n",
       "      <td>S0</td>\n",
       "      <td>2.0</td>\n",
       "      <td>134.0</td>\n",
       "      <td>Benign</td>\n",
       "      <td>pure_benign</td>\n",
       "    </tr>\n",
       "    <tr>\n",
       "      <th>6</th>\n",
       "      <td>udp</td>\n",
       "      <td>5.005149</td>\n",
       "      <td>S0</td>\n",
       "      <td>2.0</td>\n",
       "      <td>134.0</td>\n",
       "      <td>Benign</td>\n",
       "      <td>pure_benign</td>\n",
       "    </tr>\n",
       "    <tr>\n",
       "      <th>7</th>\n",
       "      <td>udp</td>\n",
       "      <td>0.143648</td>\n",
       "      <td>SF</td>\n",
       "      <td>1.0</td>\n",
       "      <td>76.0</td>\n",
       "      <td>Benign</td>\n",
       "      <td>pure_benign</td>\n",
       "    </tr>\n",
       "    <tr>\n",
       "      <th>...</th>\n",
       "      <td>...</td>\n",
       "      <td>...</td>\n",
       "      <td>...</td>\n",
       "      <td>...</td>\n",
       "      <td>...</td>\n",
       "      <td>...</td>\n",
       "      <td>...</td>\n",
       "    </tr>\n",
       "    <tr>\n",
       "      <th>25000348</th>\n",
       "      <td>tcp</td>\n",
       "      <td>0.054468</td>\n",
       "      <td>SF</td>\n",
       "      <td>7.0</td>\n",
       "      <td>388.0</td>\n",
       "      <td>Benign</td>\n",
       "      <td>rare_mixed</td>\n",
       "    </tr>\n",
       "    <tr>\n",
       "      <th>25000349</th>\n",
       "      <td>udp</td>\n",
       "      <td>0.007744</td>\n",
       "      <td>SF</td>\n",
       "      <td>2.0</td>\n",
       "      <td>136.0</td>\n",
       "      <td>Benign</td>\n",
       "      <td>pure_benign</td>\n",
       "    </tr>\n",
       "    <tr>\n",
       "      <th>25000350</th>\n",
       "      <td>udp</td>\n",
       "      <td>0.000994</td>\n",
       "      <td>SF</td>\n",
       "      <td>2.0</td>\n",
       "      <td>136.0</td>\n",
       "      <td>Benign</td>\n",
       "      <td>pure_benign</td>\n",
       "    </tr>\n",
       "    <tr>\n",
       "      <th>25000360</th>\n",
       "      <td>udp</td>\n",
       "      <td>0.005252</td>\n",
       "      <td>SF</td>\n",
       "      <td>1.0</td>\n",
       "      <td>76.0</td>\n",
       "      <td>Benign</td>\n",
       "      <td>pure_benign</td>\n",
       "    </tr>\n",
       "    <tr>\n",
       "      <th>25000361</th>\n",
       "      <td>tcp</td>\n",
       "      <td>30007.122211</td>\n",
       "      <td>OTH</td>\n",
       "      <td>654.0</td>\n",
       "      <td>42791.0</td>\n",
       "      <td>Benign</td>\n",
       "      <td>rare_mixed</td>\n",
       "    </tr>\n",
       "  </tbody>\n",
       "</table>\n",
       "<p>1728005 rows × 7 columns</p>\n",
       "</div>"
      ],
      "text/plain": [
       "         proto      duration conn_state  orig_pkts  orig_ip_bytes  \\\n",
       "0          tcp      3.097754         S0        3.0          180.0   \n",
       "3          udp      5.005148         S0        2.0          134.0   \n",
       "4          udp      5.005145         S0        2.0          134.0   \n",
       "6          udp      5.005149         S0        2.0          134.0   \n",
       "7          udp      0.143648         SF        1.0           76.0   \n",
       "...        ...           ...        ...        ...            ...   \n",
       "25000348   tcp      0.054468         SF        7.0          388.0   \n",
       "25000349   udp      0.007744         SF        2.0          136.0   \n",
       "25000350   udp      0.000994         SF        2.0          136.0   \n",
       "25000360   udp      0.005252         SF        1.0           76.0   \n",
       "25000361   tcp  30007.122211        OTH      654.0        42791.0   \n",
       "\n",
       "         detailed-label history_bucket  \n",
       "0                   C&C     majority_S  \n",
       "3                Benign    pure_benign  \n",
       "4                Benign    pure_benign  \n",
       "6                Benign    pure_benign  \n",
       "7                Benign    pure_benign  \n",
       "...                 ...            ...  \n",
       "25000348         Benign     rare_mixed  \n",
       "25000349         Benign    pure_benign  \n",
       "25000350         Benign    pure_benign  \n",
       "25000360         Benign    pure_benign  \n",
       "25000361         Benign     rare_mixed  \n",
       "\n",
       "[1728005 rows x 7 columns]"
      ]
     },
     "execution_count": 42,
     "metadata": {},
     "output_type": "execute_result"
    }
   ],
   "source": [
    "add_history_bucket(data_test)"
   ]
  },
  {
   "cell_type": "code",
   "execution_count": 43,
   "id": "89f04b5c",
   "metadata": {},
   "outputs": [
    {
     "data": {
      "text/plain": [
       "detailed-label\n",
       "DDoS                               1560817\n",
       "Benign                               92592\n",
       "PartOfAHorizontalPortScan            60716\n",
       "Attack                                8682\n",
       "C&C                                   3998\n",
       "C&C - HeartBeat                        835\n",
       "C&C - PartOfAHorizontalPortScan        331\n",
       "C&C - Torii                             16\n",
       "C&C - FileDownload                      15\n",
       "FileDownload                             3\n",
       "Name: count, dtype: int64"
      ]
     },
     "execution_count": 43,
     "metadata": {},
     "output_type": "execute_result"
    }
   ],
   "source": [
    "data_test['detailed-label'].value_counts()"
   ]
  },
  {
   "cell_type": "code",
   "execution_count": 44,
   "id": "75b79977",
   "metadata": {},
   "outputs": [],
   "source": [
    "labels_to_drop = data_test['detailed-label'].value_counts().tail(3).index\n",
    "data_test = data_test[~data_test['detailed-label'].isin(labels_to_drop)]"
   ]
  },
  {
   "cell_type": "code",
   "execution_count": 45,
   "id": "7b3548cb",
   "metadata": {},
   "outputs": [
    {
     "data": {
      "text/plain": [
       "detailed-label\n",
       "DDoS                               1560817\n",
       "Benign                               92592\n",
       "PartOfAHorizontalPortScan            60716\n",
       "Attack                                8682\n",
       "C&C                                   3998\n",
       "C&C - HeartBeat                        835\n",
       "C&C - PartOfAHorizontalPortScan        331\n",
       "Name: count, dtype: int64"
      ]
     },
     "execution_count": 45,
     "metadata": {},
     "output_type": "execute_result"
    }
   ],
   "source": [
    "data_test['detailed-label'].value_counts()"
   ]
  },
  {
   "cell_type": "code",
   "execution_count": 46,
   "id": "c62d0cb4",
   "metadata": {},
   "outputs": [
    {
     "data": {
      "text/html": [
       "<div>\n",
       "<style scoped>\n",
       "    .dataframe tbody tr th:only-of-type {\n",
       "        vertical-align: middle;\n",
       "    }\n",
       "\n",
       "    .dataframe tbody tr th {\n",
       "        vertical-align: top;\n",
       "    }\n",
       "\n",
       "    .dataframe thead th {\n",
       "        text-align: right;\n",
       "    }\n",
       "</style>\n",
       "<table border=\"1\" class=\"dataframe\">\n",
       "  <thead>\n",
       "    <tr style=\"text-align: right;\">\n",
       "      <th></th>\n",
       "      <th>orig_pkts</th>\n",
       "      <th>orig_ip_bytes</th>\n",
       "    </tr>\n",
       "  </thead>\n",
       "  <tbody>\n",
       "    <tr>\n",
       "      <th>count</th>\n",
       "      <td>1.727971e+06</td>\n",
       "      <td>1.727971e+06</td>\n",
       "    </tr>\n",
       "    <tr>\n",
       "      <th>mean</th>\n",
       "      <td>1.720536e+02</td>\n",
       "      <td>6.245499e+03</td>\n",
       "    </tr>\n",
       "    <tr>\n",
       "      <th>std</th>\n",
       "      <td>6.661563e+04</td>\n",
       "      <td>2.238537e+06</td>\n",
       "    </tr>\n",
       "    <tr>\n",
       "      <th>min</th>\n",
       "      <td>0.000000e+00</td>\n",
       "      <td>0.000000e+00</td>\n",
       "    </tr>\n",
       "    <tr>\n",
       "      <th>25%</th>\n",
       "      <td>2.000000e+00</td>\n",
       "      <td>1.200000e+02</td>\n",
       "    </tr>\n",
       "    <tr>\n",
       "      <th>50%</th>\n",
       "      <td>3.000000e+00</td>\n",
       "      <td>1.600000e+02</td>\n",
       "    </tr>\n",
       "    <tr>\n",
       "      <th>75%</th>\n",
       "      <td>5.000000e+00</td>\n",
       "      <td>2.000000e+02</td>\n",
       "    </tr>\n",
       "    <tr>\n",
       "      <th>max</th>\n",
       "      <td>6.602735e+07</td>\n",
       "      <td>1.914793e+09</td>\n",
       "    </tr>\n",
       "  </tbody>\n",
       "</table>\n",
       "</div>"
      ],
      "text/plain": [
       "          orig_pkts  orig_ip_bytes\n",
       "count  1.727971e+06   1.727971e+06\n",
       "mean   1.720536e+02   6.245499e+03\n",
       "std    6.661563e+04   2.238537e+06\n",
       "min    0.000000e+00   0.000000e+00\n",
       "25%    2.000000e+00   1.200000e+02\n",
       "50%    3.000000e+00   1.600000e+02\n",
       "75%    5.000000e+00   2.000000e+02\n",
       "max    6.602735e+07   1.914793e+09"
      ]
     },
     "execution_count": 46,
     "metadata": {},
     "output_type": "execute_result"
    }
   ],
   "source": [
    "data_test.describe()"
   ]
  },
  {
   "cell_type": "code",
   "execution_count": 47,
   "id": "9977a57f",
   "metadata": {},
   "outputs": [],
   "source": [
    "from sklearn.preprocessing import OneHotEncoder, LabelEncoder, RobustScaler\n",
    "from sklearn.compose import ColumnTransformer\n",
    "\n",
    "\n",
    "# Define features (X) and target (y)\n",
    "X = data_test.drop('detailed-label', axis=1)\n",
    "y = data_test['detailed-label']"
   ]
  },
  {
   "cell_type": "code",
   "execution_count": 48,
   "id": "e0e7e8ba",
   "metadata": {},
   "outputs": [
    {
     "name": "stdout",
     "output_type": "stream",
     "text": [
      "Data split into training and testing sets.\n",
      "Training set shape: (1209579, 6)\n",
      "Test set shape: (518392, 6)\n"
     ]
    }
   ],
   "source": [
    "X_train, X_test, y_train, y_test = train_test_split(\n",
    "    X, y, test_size=0.3, stratify=y, random_state=42\n",
    ")\n",
    "print(\"Data split into training and testing sets.\")\n",
    "\n",
    "print(f\"Training set shape: {X_train.shape}\")\n",
    "print(f\"Test set shape: {X_test.shape}\")"
   ]
  },
  {
   "cell_type": "code",
   "execution_count": null,
   "id": "fd2cfadb",
   "metadata": {},
   "outputs": [],
   "source": [
    "# Identify categorical and numerical features\n",
    "categorical_features = ['proto', 'conn_state', 'history_bucket']\n",
    "numerical_features = X.select_dtypes(include=np.number).columns.tolist()\n",
    "\n",
    "# Create and apply the scaler and encoder\n",
    "scaler = RobustScaler()\n",
    "X_train_num = scaler.fit_transform(X_train[numerical_features])\n",
    "X_test_num = scaler.transform(X_test[numerical_features])\n",
    "\n",
    "encoder = OneHotEncoder(handle_unknown='ignore', sparse_output=False)\n",
    "X_train_cat = encoder.fit_transform(X_train[categorical_features])\n",
    "X_test_cat = encoder.transform(X_test[categorical_features])\n",
    "\n",
    "# Combine processed numerical and categorical features\n",
    "num_feature_names = numerical_features\n",
    "cat_feature_names = encoder.get_feature_names_out(categorical_features)\n",
    "all_feature_names = num_feature_names + list(cat_feature_names)\n",
    "\n",
    "X_train_processed = np.hstack([X_train_num, X_train_cat])\n",
    "X_test_processed = np.hstack([X_test_num, X_test_cat])\n",
    "\n",
    "X_train_processed = pd.DataFrame(X_train_processed, columns=all_feature_names)\n",
    "X_test_processed = pd.DataFrame(X_test_processed, columns=all_feature_names)\n",
    "\n",
    "print(\"Preprocessing complete.\")\n",
    "print(f\"X_train_processed shape: {X_train_processed.shape}\")\n",
    "print(f\"X_test_processed shape: {X_test_processed.shape}\")"
   ]
  },
  {
   "cell_type": "code",
   "execution_count": 52,
   "id": "c24580c9",
   "metadata": {},
   "outputs": [],
   "source": [
    "scaler = RobustScaler()\n",
    "X_train_num = scaler.fit_transform(X_train[numerical_features])\n",
    "X_test_num = scaler.transform(X_test[numerical_features])\n",
    "encoder = OneHotEncoder(handle_unknown='ignore', sparse_output=False)\n",
    "X_train_cat = encoder.fit_transform(X_train[categorical_features])\n",
    "X_test_cat = encoder.transform(X_test[categorical_features])\n",
    "num_feature_names = numerical_features\n",
    "cat_feature_names = encoder.get_feature_names_out(categorical_features)\n",
    "all_feature_names = num_feature_names + list(cat_feature_names)\n",
    "X_train_processed = np.hstack([X_train_num, X_train_cat])\n",
    "X_test_processed = np.hstack([X_test_num, X_test_cat])\n",
    "X_train_processed = pd.DataFrame(X_train_processed, columns=all_feature_names)\n",
    "X_test_processed = pd.DataFrame(X_test_processed, columns=all_feature_names)"
   ]
  },
  {
   "cell_type": "code",
   "execution_count": null,
   "id": "6afd8f89",
   "metadata": {},
   "outputs": [],
   "source": [
    "# X_processed = preprocessor.fit_transform(X_train)"
   ]
  },
  {
   "cell_type": "code",
   "execution_count": 53,
   "id": "89eb8ccc",
   "metadata": {},
   "outputs": [
    {
     "data": {
      "text/plain": [
       "(1209579, 22)"
      ]
     },
     "execution_count": 53,
     "metadata": {},
     "output_type": "execute_result"
    }
   ],
   "source": [
    "X_train_processed.shape"
   ]
  },
  {
   "cell_type": "code",
   "execution_count": null,
   "id": "d12e5bc8",
   "metadata": {},
   "outputs": [],
   "source": [
    "# Get feature names after one-hot encoding\n",
    "# ohe_feature_names = preprocessor.named_transformers_['cat'].get_feature_names_out(categorical_features)\n",
    "# features = numerical_features + list(ohe_feature_names)\n",
    "\n",
    "# # Convert the processed data back to a DataFrame\n",
    "# X_train_processed = pd.DataFrame(X_processed, columns=features)"
   ]
  },
  {
   "cell_type": "code",
   "execution_count": null,
   "id": "abe68ab8",
   "metadata": {},
   "outputs": [],
   "source": [
    "# X_test_processed = preprocessor.transform(X_test)"
   ]
  },
  {
   "cell_type": "code",
   "execution_count": null,
   "id": "37c286d4",
   "metadata": {},
   "outputs": [],
   "source": [
    "# X_test_processed = pd.DataFrame(X_test_processed, columns=features)"
   ]
  },
  {
   "cell_type": "code",
   "execution_count": 54,
   "id": "4ecc330b",
   "metadata": {},
   "outputs": [
    {
     "name": "stdout",
     "output_type": "stream",
     "text": [
      "\n",
      "=== APPLYING DATA BALANCING ===\n",
      "Balancing method used: SMOTE\n",
      "Balanced class distribution: Counter({'DDoS': 1092571, 'Benign': 1092571, 'PartOfAHorizontalPortScan': 1092571, 'Attack': 1092571, 'C&C': 1092571, 'C&C - HeartBeat': 1092571, 'C&C - PartOfAHorizontalPortScan': 1092571})\n",
      "New dataset size: 7647997 (original: 1209579)\n"
     ]
    }
   ],
   "source": [
    "\n",
    "print(\"\\n=== APPLYING DATA BALANCING ===\")\n",
    "smote = SMOTE(random_state=42)\n",
    "X_balanced, y_balanced = smote.fit_resample(X_train_processed, y_train)\n",
    "print(\"Balancing method used: SMOTE\")\n",
    "balanced_distribution = Counter(y_balanced)\n",
    "print(f\"Balanced class distribution: {balanced_distribution}\")\n",
    "print(f\"New dataset size: {len(y_balanced)} (original: {len(y_train)})\")"
   ]
  },
  {
   "cell_type": "code",
   "execution_count": 62,
   "id": "c3eb5aaf",
   "metadata": {},
   "outputs": [
    {
     "name": "stdout",
     "output_type": "stream",
     "text": [
      "<class 'pandas.core.frame.DataFrame'>\n",
      "RangeIndex: 7647997 entries, 0 to 7647996\n",
      "Data columns (total 22 columns):\n",
      " #   Column                                  Dtype  \n",
      "---  ------                                  -----  \n",
      " 0   orig_pkts                               float64\n",
      " 1   orig_ip_bytes                           float64\n",
      " 2   proto_tcp                               float64\n",
      " 3   proto_udp                               float64\n",
      " 4   conn_state_OTH                          float64\n",
      " 5   conn_state_REJ                          float64\n",
      " 6   conn_state_RSTO                         float64\n",
      " 7   conn_state_RSTOS0                       float64\n",
      " 8   conn_state_RSTR                         float64\n",
      " 9   conn_state_RSTRH                        float64\n",
      " 10  conn_state_S0                           float64\n",
      " 11  conn_state_S1                           float64\n",
      " 12  conn_state_S2                           float64\n",
      " 13  conn_state_S3                           float64\n",
      " 14  conn_state_SF                           float64\n",
      " 15  conn_state_SH                           float64\n",
      " 16  conn_state_SHR                          float64\n",
      " 17  history_bucket_known_suspicious_combos  float64\n",
      " 18  history_bucket_majority_S               float64\n",
      " 19  history_bucket_pure_benign              float64\n",
      " 20  history_bucket_pure_malicious           float64\n",
      " 21  history_bucket_rare_mixed               float64\n",
      "dtypes: float64(22)\n",
      "memory usage: 1.3 GB\n"
     ]
    }
   ],
   "source": [
    "X_balanced.info()"
   ]
  },
  {
   "cell_type": "code",
   "execution_count": 55,
   "id": "025a717d",
   "metadata": {},
   "outputs": [],
   "source": [
    "label = LabelEncoder()\n",
    "\n",
    "y_train_processed = label.fit_transform(y_balanced)\n",
    "y_test_processed = label.transform(y_test)"
   ]
  },
  {
   "cell_type": "markdown",
   "id": "df97357d",
   "metadata": {},
   "source": [
    "\n",
    "---\n",
    "### Using GPU with XGBoost\n",
    "\n",
    "To leverage the GPU, we can use the `XGBoost` library, which supports Apple Silicon GPUs. First, we need to install it.\n"
   ]
  },
  {
   "cell_type": "code",
   "execution_count": null,
   "id": "f1aab4af",
   "metadata": {},
   "outputs": [],
   "source": [
    "\n",
    "%pip install xgboost\n"
   ]
  },
  {
   "cell_type": "markdown",
   "id": "6823dd2f",
   "metadata": {},
   "source": [
    "\n",
    "Now, let's train an XGBoost classifier using the GPU.\n"
   ]
  },
  {
   "cell_type": "code",
   "execution_count": 57,
   "id": "51710871",
   "metadata": {},
   "outputs": [
    {
     "name": "stdout",
     "output_type": "stream",
     "text": [
      "MPS not available, using CPU.\n"
     ]
    }
   ],
   "source": [
    "\n",
    "import xgboost as xgb\n",
    "\n",
    "# Check if MPS is available\n",
    "if xgb.config.get_config().get(\"USE_MPS\", False):\n",
    "    print(\"MPS is available, using GPU.\")\n",
    "    device = \"mps\"\n",
    "else:\n",
    "    print(\"MPS not available, using CPU.\")\n",
    "    device = \"cpu\"\n",
    "\n",
    "# Create an XGBoost classifier\n",
    "# The `device` parameter is set to \"mps\" to enable GPU acceleration on Apple Silicon.\n",
    "# All other parameters are set to be similar to the RandomForestClassifier for comparison.\n",
    "xgb_clf = xgb.XGBClassifier(\n",
    "    n_estimators=100,\n",
    "    random_state=42,\n",
    "    device=device,  # Use 'mps' for Apple Silicon GPU\n",
    "    eval_metric='logloss',\n",
    "    use_label_encoder=False\n",
    ")\n"
   ]
  },
  {
   "cell_type": "code",
   "execution_count": 58,
   "id": "15f7d4b2",
   "metadata": {},
   "outputs": [
    {
     "name": "stdout",
     "output_type": "stream",
     "text": [
      "\n",
      "=== XGBoost CROSS-VALIDATION ANALYSIS (GPU) ===\n",
      "[19:25:24] WARNING: /Users/runner/work/xgboost/xgboost/python-package/build/temp.macosx-11.0-arm64-cpython-38/xgboost/src/learner.cc:627: \n",
      "Parameters: { \"device\" } might not be used.\n",
      "\n",
      "  This could be a false alarm, with some parameters getting used by language bindings but\n",
      "  then being mistakenly passed down to XGBoost core, or some parameter actually being used\n",
      "  but getting flagged wrongly here. Please open an issue if you find any such cases.\n",
      "\n",
      "\n",
      "[19:30:47] WARNING: /Users/runner/work/xgboost/xgboost/python-package/build/temp.macosx-11.0-arm64-cpython-38/xgboost/src/learner.cc:627: \n",
      "Parameters: { \"device\" } might not be used.\n",
      "\n",
      "  This could be a false alarm, with some parameters getting used by language bindings but\n",
      "  then being mistakenly passed down to XGBoost core, or some parameter actually being used\n",
      "  but getting flagged wrongly here. Please open an issue if you find any such cases.\n",
      "\n",
      "\n",
      "[19:36:10] WARNING: /Users/runner/work/xgboost/xgboost/python-package/build/temp.macosx-11.0-arm64-cpython-38/xgboost/src/learner.cc:627: \n",
      "Parameters: { \"device\" } might not be used.\n",
      "\n",
      "  This could be a false alarm, with some parameters getting used by language bindings but\n",
      "  then being mistakenly passed down to XGBoost core, or some parameter actually being used\n",
      "  but getting flagged wrongly here. Please open an issue if you find any such cases.\n",
      "\n",
      "\n",
      "[19:41:32] WARNING: /Users/runner/work/xgboost/xgboost/python-package/build/temp.macosx-11.0-arm64-cpython-38/xgboost/src/learner.cc:627: \n",
      "Parameters: { \"device\" } might not be used.\n",
      "\n",
      "  This could be a false alarm, with some parameters getting used by language bindings but\n",
      "  then being mistakenly passed down to XGBoost core, or some parameter actually being used\n",
      "  but getting flagged wrongly here. Please open an issue if you find any such cases.\n",
      "\n",
      "\n",
      "[19:46:54] WARNING: /Users/runner/work/xgboost/xgboost/python-package/build/temp.macosx-11.0-arm64-cpython-38/xgboost/src/learner.cc:627: \n",
      "Parameters: { \"device\" } might not be used.\n",
      "\n",
      "  This could be a false alarm, with some parameters getting used by language bindings but\n",
      "  then being mistakenly passed down to XGBoost core, or some parameter actually being used\n",
      "  but getting flagged wrongly here. Please open an issue if you find any such cases.\n",
      "\n",
      "\n",
      "Cross-validation scores: [0.74868789 0.74888533 0.74834712 0.74854782 0.74879037]\n",
      "Mean CV accuracy: 0.7487 (+/- 0.0004)\n"
     ]
    }
   ],
   "source": [
    "print(\"\\n=== XGBoost CROSS-VALIDATION ANALYSIS (GPU) ===\")\n",
    "cv = StratifiedKFold(n_splits=5, shuffle=True, random_state=42)\n",
    "cv_scores = cross_val_score(xgb_clf, X_balanced, y_train_processed, cv=cv, scoring='accuracy')\n",
    "\n",
    "print(f\"Cross-validation scores: {cv_scores}\")\n",
    "print(f\"Mean CV accuracy: {cv_scores.mean():.4f} (+/- {cv_scores.std() * 2:.4f})\")"
   ]
  },
  {
   "cell_type": "code",
   "execution_count": 59,
   "id": "e1b6c50f",
   "metadata": {},
   "outputs": [
    {
     "name": "stdout",
     "output_type": "stream",
     "text": [
      "\n",
      "=== XGBoost FINAL MODEL TRAINING (GPU) ===\n",
      "[19:52:45] WARNING: /Users/runner/work/xgboost/xgboost/python-package/build/temp.macosx-11.0-arm64-cpython-38/xgboost/src/learner.cc:627: \n",
      "Parameters: { \"device\" } might not be used.\n",
      "\n",
      "  This could be a false alarm, with some parameters getting used by language bindings but\n",
      "  then being mistakenly passed down to XGBoost core, or some parameter actually being used\n",
      "  but getting flagged wrongly here. Please open an issue if you find any such cases.\n",
      "\n",
      "\n",
      "Test Set Results (XGBoost):\n",
      "Accuracy: 0.9382\n",
      "Classification Report:\n",
      "              precision    recall  f1-score   support\n",
      "\n",
      "           0       0.97      0.71      0.82      2605\n",
      "           1       0.98      0.40      0.57     27778\n",
      "           2       0.06      1.00      0.11      1199\n",
      "           3       0.18      1.00      0.31       250\n",
      "           4       0.01      0.94      0.02        99\n",
      "           5       1.00      1.00      1.00    468246\n",
      "           6       0.76      0.20      0.32     18215\n",
      "\n",
      "    accuracy                           0.94    518392\n",
      "   macro avg       0.57      0.75      0.45    518392\n",
      "weighted avg       0.99      0.94      0.95    518392\n",
      "\n"
     ]
    }
   ],
   "source": [
    "print(\"\\n=== XGBoost FINAL MODEL TRAINING (GPU) ===\")\n",
    "xgb_clf.fit(X_balanced, y_train_processed)\n",
    "\n",
    "y_pred_xgb = xgb_clf.predict(X_test_processed)\n",
    "print(\"Test Set Results (XGBoost):\")\n",
    "print(f\"Accuracy: {accuracy_score(y_test_processed, y_pred_xgb):.4f}\")\n",
    "print(f\"Classification Report:\\n{classification_report(y_test_processed, y_pred_xgb)}\")"
   ]
  },
  {
   "cell_type": "code",
   "execution_count": 60,
   "id": "e67a889c",
   "metadata": {},
   "outputs": [
    {
     "name": "stdout",
     "output_type": "stream",
     "text": [
      "\n",
      "=== DETAILED EVALUATION (XGBoost) ===\n",
      "Confusion Matrix (XGBoost):\n",
      "[[  1845      1      2    746      0      0     11]\n",
      " [    13  11128  15234    289      0      0   1114]\n",
      " [     1      2   1194      1      0      1      0]\n",
      " [     0      0      0    249      0      0      1]\n",
      " [     0      6      0      0     93      0      0]\n",
      " [     0      8     10      0      0 468224      4]\n",
      " [    40    185   3289     72  11012      0   3617]]\n"
     ]
    }
   ],
   "source": [
    "print(\"\\n=== DETAILED EVALUATION (XGBoost) ===\")\n",
    "cm_xgb = confusion_matrix(y_test_processed, y_pred_xgb)\n",
    "print(\"Confusion Matrix (XGBoost):\")\n",
    "print(cm_xgb)"
   ]
  },
  {
   "cell_type": "code",
   "execution_count": 64,
   "id": "b39c17cc",
   "metadata": {},
   "outputs": [
    {
     "name": "stdout",
     "output_type": "stream",
     "text": [
      "Model saved to flowguard_xgboost_model_final.pkl\n",
      "Scaler saved to flowguard_scaler.pkl\n",
      "Encoder saved to flowguard_encoder.pkl\n",
      "Label encoder saved to flowguard_label_encoder.pkl\n",
      "Preprocessing data saved to flowguard_preprocessing.json\n"
     ]
    }
   ],
   "source": [
    "import joblib\n",
    "import json\n",
    "\n",
    "# --- EXPORTING MODEL AND PREPROCESSING OBJECTS ---\n",
    "\n",
    "# 1. Save the trained XGBoost model\n",
    "model_filename = 'flowguard_xgboost_model_final.pkl'\n",
    "joblib.dump(xgb_clf, model_filename)\n",
    "print(f\"Model saved to {model_filename}\")\n",
    "\n",
    "# 2. Save the feature list and categorical mappings\n",
    "preprocessing_data = {\n",
    "    'numerical_features': numerical_features,\n",
    "    'categorical_features': categorical_features,\n",
    "    'ohe_categories': [list(cats) for cats in encoder.categories_],\n",
    "    'label_encoder_classes': list(label.classes_),\n",
    "    'feature_names_out': all_feature_names\n",
    "}\n",
    "\n",
    "# Save the scaler and encoder objects separately using joblib\n",
    "joblib.dump(scaler, 'flowguard_scaler.pkl')\n",
    "print(\"Scaler saved to flowguard_scaler.pkl\")\n",
    "joblib.dump(encoder, 'flowguard_encoder.pkl')\n",
    "print(\"Encoder saved to flowguard_encoder.pkl\")\n",
    "joblib.dump(label, 'flowguard_label_encoder.pkl')\n",
    "print(\"Label encoder saved to flowguard_label_encoder.pkl\")\n",
    "\n",
    "preprocessing_filename = 'flowguard_preprocessing.json'\n",
    "with open(preprocessing_filename, 'w') as f:\n",
    "    json.dump(preprocessing_data, f)\n",
    "print(f\"Preprocessing data saved to {preprocessing_filename}\")\n"
   ]
  },
  {
   "cell_type": "code",
   "execution_count": null,
   "id": "bf5ea541",
   "metadata": {},
   "outputs": [],
   "source": []
  }
 ],
 "metadata": {
  "kernelspec": {
   "display_name": "lewagon",
   "language": "python",
   "name": "python3"
  },
  "language_info": {
   "codemirror_mode": {
    "name": "ipython",
    "version": 3
   },
   "file_extension": ".py",
   "mimetype": "text/x-python",
   "name": "python",
   "nbconvert_exporter": "python",
   "pygments_lexer": "ipython3",
   "version": "3.10.6"
  }
 },
 "nbformat": 4,
 "nbformat_minor": 5
}
